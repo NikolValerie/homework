{
 "cells": [
  {
   "cell_type": "markdown",
   "metadata": {},
   "source": [
    "# Фаза 2 • Неделя 10 • Вторник\n",
    "## Обработка естественного языка\n",
    "#### Word2Vec • LSTM • Attention"
   ]
  },
  {
   "cell_type": "code",
   "execution_count": 1,
   "metadata": {},
   "outputs": [],
   "source": [
    "%load_ext autoreload\n",
    "%autoreload 2"
   ]
  },
  {
   "cell_type": "code",
   "execution_count": 1,
   "metadata": {},
   "outputs": [],
   "source": [
    "import numpy as np\n",
    "import pandas as pd\n",
    "from typing import Tuple\n",
    "import matplotlib.pyplot as plt\n",
    "#### Word2Vec\n",
    "from gensim.models import Word2Vec\n",
    "####\n",
    "import torch\n",
    "from torch.utils.data import DataLoader, TensorDataset\n",
    "import torch.nn.functional as F\n",
    "import torch.nn as nn\n",
    "from sklearn.model_selection import train_test_split\n",
    "from collections import Counter\n",
    "\n",
    "from torchmetrics.classification import BinaryAccuracy\n",
    "from src.rnn_preprocessing import (\n",
    "                                data_preprocessing, \n",
    "                                preprocess_single_string, \n",
    "                                padding, \n",
    "                                get_words_by_freq\n",
    "                                )\n",
    "from src.train_rnn import train_attention_lstm"
   ]
  },
  {
   "cell_type": "markdown",
   "metadata": {},
   "source": [
    "## Загрузка и препроцессинг данных\n",
    "\n",
    "Общая схема обычная: \n",
    "1. Загружаем данные\n",
    "2. Столбец с отзывами предобрабатываем (стоп-слова, числа, теги – все гиперпараметр)\n",
    "3. Обучаем `word2vec` на наших данных и создаем собственный `embedding`-слой из векторов `w2v`\n",
    "4. Преобразуем слова в индексы и делаем `padding`\n",
    "5. Разделяем на обучение и валидацию"
   ]
  },
  {
   "cell_type": "code",
   "execution_count": 2,
   "metadata": {},
   "outputs": [],
   "source": [
    "df = pd.read_csv('data/imdb.csv')\n",
    "reviews = df['review'].tolist()\n",
    "preprocessed = [data_preprocessing(review) for review in reviews]"
   ]
  },
  {
   "cell_type": "code",
   "execution_count": 3,
   "metadata": {},
   "outputs": [
    {
     "data": {
      "text/plain": [
       "'phil alien one quirky films humour based around oddness everything rather actual punchlinesat first odd pretty funny movie progressed didnt find jokes oddness funny anymoreits low budget film thats never problem pretty interesting characters eventually lost interesti imagine film would appeal stoner currently partakingfor something similar better try brother another planet'"
      ]
     },
     "execution_count": 3,
     "metadata": {},
     "output_type": "execute_result"
    }
   ],
   "source": [
    "preprocessed[10]"
   ]
  },
  {
   "cell_type": "code",
   "execution_count": 4,
   "metadata": {},
   "outputs": [],
   "source": [
    "corpus = [word for text in preprocessed for word in text.split()]\n",
    "sorted_words = Counter(corpus).most_common()"
   ]
  },
  {
   "cell_type": "code",
   "execution_count": 5,
   "metadata": {},
   "outputs": [
    {
     "data": {
      "text/plain": [
       "[('loads', 201),\n",
       " ('myers', 201),\n",
       " ('walken', 201),\n",
       " ('failing', 201),\n",
       " ('honesty', 201),\n",
       " ('dozens', 201),\n",
       " ('superficial', 201),\n",
       " ('reunion', 201),\n",
       " ('vegas', 201),\n",
       " ('todd', 201)]"
      ]
     },
     "execution_count": 5,
     "metadata": {},
     "output_type": "execute_result"
    }
   ],
   "source": [
    "sorted_words = get_words_by_freq(sorted_words, 200)\n",
    "sorted_words[-10:]"
   ]
  },
  {
   "cell_type": "code",
   "execution_count": 6,
   "metadata": {},
   "outputs": [],
   "source": [
    "vocab_to_int = {w:i+1 for i, (w,c) in enumerate(sorted_words)}\n",
    "# vocab_to_int"
   ]
  },
  {
   "cell_type": "code",
   "execution_count": 7,
   "metadata": {},
   "outputs": [
    {
     "data": {
      "text/plain": [
       "dict_keys(['movie', 'film', 'one', 'like', 'good', 'even', 'would', 'time', 'really', 'see', 'story', 'much', 'well', 'get', 'great', 'bad', 'also', 'people', 'first', 'dont', 'movies', 'made', 'make', 'films', 'could', 'way', 'characters', 'think', 'watch', 'many', 'seen', 'two', 'character', 'never', 'love', 'acting', 'little', 'plot', 'best', 'know', 'show', 'life', 'ever', 'better', 'say', 'still', 'scene', 'end', 'man', 'scenes', 'something', 'go', 'back', 'real', 'im', 'watching', 'thing', 'doesnt', 'didnt', 'actors', 'years', 'actually', 'though', 'funny', 'makes', 'another', 'find', 'nothing', 'look', 'going', 'work', 'lot', 'new', 'every', 'old', 'us', 'part', 'cant', 'director', 'want', 'quite', 'thats', 'things', 'pretty', 'cast', 'seems', 'around', 'got', 'young', 'take', 'fact', 'world', 'enough', 'big', 'horror', 'thought', 'give', 'may', 'ive', 'however', 'without', 'long', 'saw', 'isnt', 'always', 'gets', 'right', 'music', 'original', 'must', 'almost', 'come', 'series', 'times', 'comedy', 'whole', 'role', 'least', 'interesting', 'guy', 'action', 'point', 'bit', 'theres', 'done', 'far', 'might', 'hes', 'minutes', 'script', 'feel', 'anything', 'last', 'since', 'probably', 'family', 'kind', 'performance', 'tv', 'away', 'rather', 'yet', 'worst', 'fun', 'found', 'anyone', 'sure', 'played', 'girl', 'making', 'believe', 'woman', 'trying', 'shows', 'especially', 'course', 'comes', 'hard', 'goes', 'day', 'put', 'although', 'everything', 'different', 'worth', 'main', 'looking', 'dvd', 'ending', 'place', 'looks', 'wasnt', 'book', 'watched', 'maybe', 'sense', 'reason', 'screen', 'three', 'set', 'effects', 'someone', 'true', 'plays', 'play', 'job', 'money', 'together', 'actor', 'said', 'seem', 'takes', 'american', 'everyone', 'instead', 'beautiful', 'special', 'seeing', 'later', 'left', 'audience', 'war', 'version', 'excellent', 'john', 'idea', 'night', 'shot', 'black', 'simply', 'high', 'fan', 'youre', 'completely', 'used', 'house', 'nice', 'read', 'poor', 'else', 'wife', 'death', 'kids', 'friends', 'short', 'along', 'help', 'men', 'second', 'mind', 'use', 'less', 'star', 'home', 'need', 'try', 'half', 'given', 'enjoy', 'year', 'boring', 'rest', 'either', 'classic', 'truly', 'performances', 'recommend', 'dead', 'couple', 'production', 'wrong', 'stupid', 'line', 'father', 'hollywood', 'start', 'next', 'tell', 'came', 'getting', 'women', 'understand', 'remember', 'full', 'let', 'school', 'keep', 'camera', 'terrible', 'others', 'awful', 'moments', 'mean', 'sex', 'wonderful', 'playing', 'perhaps', 'video', 'name', 'human', 'gives', 'often', 'budget', 'episode', 'small', 'couldnt', 'definitely', 'perfect', 'early', 'person', 'top', 'went', 'lines', 'dialogue', 'absolutely', 'face', 'piece', 'guys', 'certainly', 'become', 'liked', 'stars', 'case', 'sort', 'head', 'loved', 'hope', 'entire', 'felt', 'supposed', 'lost', 'several', 'live', 'style', 'mother', 'entertaining', 'written', 'worse', 'picture', 'title', 'laugh', 'finally', 'waste', 'problem', 'boy', 'friend', 'totally', 'sound', 'shes', 'beginning', 'seemed', 'wanted', 'yes', 'based', 'cinema', 'mr', 'dark', 'care', 'becomes', 'humor', 'wont', 'already', 'fans', 'lead', 'example', 'guess', 'youll', 'final', 'children', 'evil', 'called', 'direction', 'lives', 'able', 'turn', 'low', 'id', 'throughout', 'game', 'drama', 'white', 'wants', 'oh', 'girls', 'days', 'fine', 'despite', '\\x96', 'quality', 'horrible', 'theyre', 'amazing', 'writing', 'history', 'tries', 'works', 'kill', 'enjoyed', 'turns', 'gave', 'killer', 'act', 'unfortunately', 'michael', 'son', 'past', 'parts', 'favorite', 'side', 'flick', 'behind', 'matter', 'expect', 'car', 'brilliant', 'town', 'eyes', 'run', 'starts', 'ones', 'stuff', 'obviously', 'sometimes', 'killed', 'viewer', 'says', 'thinking', 'took', 'soon', 'overall', 'group', 'directed', 'decent', 'actress', 'heart', 'late', 'art', 'city', 'heard', 'genre', 'happens', 'feeling', 'kid', 'highly', 'hell', 'fight', 'except', 'child', 'extremely', 'ill', 'leave', 'wouldnt', 'cannot', 'told', 'lack', 'blood', 'close', 'etc', 'police', 'experience', 'moment', 'hour', 'coming', 'wonder', 'looked', 'stories', 'involved', 'chance', 'strong', 'hand', 'particularly', 'type', 'save', 'score', 'daughter', 'living', 'including', 'attempt', 'complete', 'shown', 'serious', 'taken', 'simple', 'obvious', 'god', 'roles', 'happened', 'hilarious', 'violence', 'stop', 'happen', 'cool', 'james', 'across', 'murder', 'voice', 'known', 'exactly', 'song', 'opening', 'ago', 'number', 'usually', 'robert', 'released', 'slow', 'saying', 'huge', 'david', 'wish', 'jokes', 'ok', 'reality', 'interest', 'whose', 'order', 'hours', 'cinematography', 'english', 'crap', 'relationship', 'sad', 'hit', 'alone', 'none', 'lets', 'running', 'shots', 'possible', 'talent', 'annoying', 'seriously', 'gore', 'started', 'cut', 'age', 'major', 'career', 'call', 'today', 'please', 'female', 'brother', 'somewhat', 'taking', 'ends', 'usual', 'ridiculous', 'knew', 'hero', 'beyond', 'mostly', 'important', 'change', 'view', 'knows', 'documentary', 'body', 'turned', 'finds', 'power', 'opinion', 'words', 'silly', 'word', 'strange', 'due', 'novel', 'husband', 'scary', 'anyway', 'apparently', 'local', 'upon', 'talking', 'attention', 'happy', 'directors', 'clearly', 'cheap', 'episodes', 'musical', 'arent', 'country', 'four', 'room', 'basically', 'single', 'level', 'problems', 'disappointed', 'television', 'british', 'tells', 'sequence', 'events', 'miss', 'jack', 'modern', 'talk', 'light', 'songs', 'whats', 'french', 'whether', 'appears', 'sets', 'predictable', 'bring', 'easily', 'giving', 'havent', 'review', 'rating', 'supporting', 'add', 'dialog', 'mention', 'falls', 'lots', 'similar', 'soundtrack', 'needs', 'viewers', 'romantic', 'bunch', 'team', 'ten', 'enjoyable', 'hate', 'future', 'showing', 'george', 'within', 'tried', 'message', 'five', 'entertainment', 'certain', 'surprised', 'moving', 'clear', 'earth', 'parents', 'comic', 'space', 'middle', 'storyline', 'among', 'filmed', 'dull', 'named', 'fall', 'theme', 'sequel', 'easy', 'theater', 'ways', 'feels', 'kept', 'king', 'release', 'typical', 'near', 'stay', 'using', 'thriller', 'greatest', 'buy', 'comments', 'gone', 'doubt', 'working', 'effort', 'nearly', 'sorry', 'writer', 'elements', 'actual', 'deal', 'means', 'monster', 'tale', 'subject', 'suspense', 'brought', 'fantastic', '80s', 'editing', 'famous', 'straight', 'die', 'boys', 'realistic', 'lady', 'rock', 'points', 'dr', 'general', 'leads', 'youve', 'sister', 'feature', 'imagine', 'peter', 'viewing', 'move', 'class', 'form', 'begins', 'richard', 'mystery', 'reviews', 'somehow', 'hear', 'material', 'check', 'forget', 'dog', 'learn', 'figure', 'whos', 'rent', 'sit', 'particular', 'weak', 'animation', 'period', 'premise', 'surprise', 'believable', 'killing', 'sequences', 'expected', 'decided', 'eventually', 'atmosphere', 'crime', 'avoid', 'paul', 'difficult', 'wait', 'york', 'deep', 'fast', 'red', 'okay', 'leaves', 'became', 'truth', 'tom', 'possibly', 'emotional', 'indeed', 'average', 'poorly', 'situation', 'eye', 'follow', 'lame', 'dance', 'forced', 'stand', 'meet', 'needed', 'footage', 'shame', 'begin', 'whatever', 'crew', 'memorable', 'scifi', 'minute', 'open', 'oscar', 'sexual', 'reading', 'meets', 'features', 'write', 'season', 'writers', 'previous', 'question', 'doctor', 'filmmakers', 'interested', 'credits', 'beauty', 'romance', 'cheesy', 'gay', 'personal', 'imdb', 'keeps', 'hot', 'third', 'unless', 'superb', 'nature', 'total', 'inside', 'western', 'otherwise', 'hands', 'society', 'towards', 'male', 'incredibly', 'perfectly', 'screenplay', 'note', 'box', 'comment', 'sounds', 'weird', 'de', 'result', 'quickly', 'realize', 'effect', 'street', 'japanese', 'island', 'battle', 'laughs', 'masterpiece', 'plus', 'worked', 'badly', 'unique', 'copy', 'earlier', 'older', 'various', 'crazy', 'brings', 'america', 'air', 'stage', 'plenty', 'background', 'appear', 'setting', 'free', 'admit', 'ask', 'fairly', 'b', 'powerful', 'lee', 'spent', 'portrayed', 'front', 'leading', 'business', 'following', 'creepy', 'directing', 'dramatic', 'forward', 'mark', 'acted', 'baby', 'joe', 'mess', 'remake', 'rich', 'development', 'pay', 'dumb', 'outside', 'meant', 'attempts', 'deserves', 'manages', 'political', 'fire', 'fails', 'expecting', 'water', 'wasted', 'bill', 'joke', '70s', 'create', 'ideas', 'la', 'caught', 'agree', 'hardly', 'cover', 'reasons', 'return', 'missing', 'fighting', 'cop', 'success', 'recently', 'present', 'apart', 'twist', 'party', 'large', 'secret', 'girlfriend', 'plain', 'brothers', 'william', 'members', 'clever', 'ended', 'talented', 'cute', 'dream', 'telling', 'laughing', 'pure', 'escape', 'german', 'zombie', 'waiting', 'odd', 'potential', 'break', 'created', 'disney', 'gun', 'missed', 'pace', 'visual', 'casting', 'hold', 'married', 'sees', 'unlike', 'cause', 'slightly', 'incredible', 'villain', 'match', 'italian', 'van', 'public', 'nudity', 'decides', 'uses', 'familiar', 'considering', 'died', 'cartoon', 'state', 'speak', 'mentioned', 'entirely', 'popular', 'list', 'wrote', 'fantasy', 'era', 'appreciate', 'credit', 'amount', 'train', 'produced', 'bored', 'fit', 'company', 'neither', 'compared', 'suddenly', 'convincing', 'biggest', 'follows', 'younger', 'rate', 'office', 'portrayal', 'moves', 'former', 'tension', 'common', 'producers', 'flat', 'sadly', 'intelligent', 'store', 'audiences', 'dancing', 'value', 'images', 'trouble', 'sweet', 'science', 'violent', 'language', 'social', 'choice', 'college', 'filled', 'spend', 'successful', 'cold', 'kills', 'force', 'decide', 'fear', 'recent', 'concept', 'mad', 'bizarre', 'hair', 'century', 'longer', 'focus', 'basic', 'situations', 'alive', 'likes', 'christmas', 'positive', 'band', 'project', 'werent', 'amusing', 'scott', 'consider', 'exciting', 'sick', 'depth', 'involving', 'pointless', 'barely', 'showed', 'questions', 'solid', 'spirit', 'control', 'books', 'fake', 'singing', 'pathetic', 'soldiers', 'impossible', 'effective', 'honest', 'jane', 'leaving', 'ultimately', 'awesome', 'changed', 'values', 'impressive', 'humour', 'recommended', 'respect', 'master', 'yeah', 'alien', 'bought', 'walk', 'chemistry', 'considered', 'studio', 'literally', 'meaning', 'revenge', 'immediately', 'failed', 'somewhere', 'accent', 'channel', 'brain', 'shooting', 'adult', 'sitting', 'gang', 'pick', 'garbage', 'trash', 'runs', 'thinks', 'charles', 'ability', 'glad', 'surprisingly', 'culture', 'fair', 'genius', 'prison', 'south', 'ben', 'touch', 'explain', 'normal', 'road', 'aside', 'added', 'camp', 'win', 'journey', 'disturbing', 'mood', 'trip', 'starring', 'twists', 'vampire', 'army', 'bother', 'west', 'fiction', 'likely', 'cat', 'issues', 'tone', 'drug', 'honestly', 'sexy', 'stick', 'adventure', 'blue', 'thanks', 'remains', 'tough', 'cinematic', 'silent', 'purpose', 'nobody', 'park', 'taste', 'bed', 'aspect', 'terms', 'subtle', 'animated', 'nowhere', 'utterly', 'beautifully', 'generally', 'chase', 'shoot', 'week', 'complex', 'available', 'jim', 'loves', 'personally', 'cult', 'managed', 'appearance', 'pictures', 'sam', 'naked', 'standard', 'historical', 'frank', 'lovely', 'conclusion', 'slasher', 'charming', 'natural', 'presence', 'photography', 'thrown', 'constantly', 'plan', 'changes', 'catch', 'adaptation', 'terrific', 'innocent', 'military', 'planet', 'giant', 'suppose', 'comedies', 'knowing', 'computer', 'walking', 'appeal', 'emotions', 'rare', 'government', 'scenery', 'indian', 'names', 'edge', 'smart', 'ride', 'magic', 'london', 'mary', 'slowly', 'stands', 'pass', 'door', 'details', 'narrative', 'pieces', 'places', 'puts', 'contains', 'soul', 'spoilers', 'painful', 'zombies', 'excuse', 'self', 'steve', 'disappointing', 'touching', 'attack', 'wild', 'jones', 'impression', 'track', 'date', 'ghost', 'costumes', 'minor', 'intended', 'dad', 'presented', 'critics', 'laughable', 'brief', 'makers', 'land', 'hoping', 'chris', 'feelings', 'everybody', 'equally', 'makeup', 'central', 'thus', 'hey', 'mysterious', 'acts', 'themes', 'filming', 'throw', 'building', 'unbelievable', 'surely', 'sent', 'festival', 'law', 'paris', 'detective', 'bond', 'youd', 'outstanding', 'mainly', 'opera', 'fully', 'aspects', 'stunning', 'tired', 'students', 'ray', 'finish', 'harry', 'climax', 'club', 'boyfriend', 'laughed', 'thank', 'race', 'ed', 'image', 'notice', 'opportunity', 'victim', 'expectations', 'emotion', 'hurt', 'loud', 'manner', 'finding', 'woods', 'support', 'mistake', 'fascinating', 'hospital', 'suggest', 'include', 'award', 'charm', 'victims', 'bruce', 'producer', 'confusing', 'random', 'charlie', 'faces', 'confused', 'pain', 'forever', 'cops', 'green', 'offer', 'fresh', 'cry', 'ship', 'mans', 'tony', 'student', 'disappointment', 'fell', 'justice', 'dreams', 'besides', 'lived', 'news', 'pull', 'motion', 'answer', 'million', 'holes', 'lacks', 'falling', 'boss', 'flicks', 'color', 'christopher', 'twice', 'content', 'seemingly', 'bottom', 'marriage', 'adds', 'relationships', 'happening', 'heavy', 'location', 'smith', 'exception', 'difference', 'supposedly', 'developed', 'compelling', 'helps', 'drugs', 'lighting', 'wow', 'appeared', 'likable', 'ahead', 'funniest', 'share', 'creative', 'summer', 'moral', 'impressed', 'delivers', 'folks', 'extreme', 'agent', 'affair', 'martin', 'paid', 'dies', 'born', 'approach', 'hasnt', 'rated', 'gem', 'wondering', 'batman', 'radio', 'shock', 'information', 'russian', 'putting', 'drive', 'intense', 'billy', 'rented', 'merely', 'vs', 'element', 'trailer', 'offers', 'led', 'gorgeous', 'followed', 'allowed', 'bar', 'plane', 'teen', 'collection', 'reminded', 'provides', 'detail', 'ii', 'shouldnt', 'six', 'key', 'industry', 'becoming', 'therefore', 'speaking', 'beat', 'onto', 'absolute', 'ugly', 'stuck', 'mediocre', 'negative', 'adults', 'animals', 'mix', 'drawn', 'americans', 'impact', 'attractive', 'flaws', 'serial', 'system', 'machine', 'shocking', 'games', 'lover', 'forgotten', 'ready', 'picked', 'christian', 'area', 'captain', 'hotel', 'mom', 'ground', 'suicide', 'porn', 'lies', 'event', 'compare', 'damn', 'worthy', 'super', 'ms', 'turning', 'filmmaking', 'imagination', 'grace', 'teenage', 'dirty', 'count', 'fellow', 'angry', 'thoroughly', 'church', 'returns', 'nasty', 'standards', 'soldier', 'proves', 'helped', 'spot', 'states', 'tragic', 'cliché', 'phone', 'artistic', 'addition', 'murders', 'moved', 'personality', 'wooden', 'deliver', 'quick', 'lose', 'station', 'seconds', 'cgi', 'epic', 'creature', 'stewart', 'anymore', 'search', 'direct', 'wearing', 'actresses', 'latter', 'carry', 'childhood', 'flying', 'tragedy', 'disaster', 'member', 'inspired', 'passion', 'asked', 'actions', 'grade', 'torture', 'continue', 'listen', 'willing', 'afraid', 'provide', 'kevin', 'commentary', 'fashion', 'scientist', 'wanting', 'process', 'spoiler', 'describe', 'held', 'favourite', 'dying', 'began', 'theatre', 'bits', 'realized', 'professional', 'extra', 'teacher', 'physical', 'whatsoever', 'struggle', 'accident', 'redeeming', 'rarely', 'apartment', 'introduced', 'queen', 'todays', 'accept', 'monsters', 'independent', 'sea', 'kelly', 'wars', 'jason', 'hidden', 'asks', 'clichés', 'allow', 'henry', 'judge', 'filmmaker', 'bloody', 'pop', 'food', 'energy', 'williams', 'holds', 'arts', 'calls', 'pleasure', 'noir', 'intriguing', 'step', 'intelligence', 'numbers', 'suspect', 'clothes', 'seven', 'wall', 'thomas', 'comedic', 'dangerous', 'zero', 'design', 'sucks', 'chinese', 'deeply', 'tim', 'tears', 'reminds', 'deserve', 'necessary', 'surprising', 'sight', 'jerry', '60s', 'superior', 'includes', 'religious', 'fat', 'memory', 'martial', 'blame', 'sat', 'wonderfully', 'sleep', 'animal', 'double', 'watchable', 'accurate', 'rape', 'anywhere', 'explanation', 'heroes', 'ryan', 'hated', 'ie', 'mouth', 'understanding', 'apparent', 'limited', 'thin', 'unknown', 'horse', 'anybody', 'trust', 'brutal', 'fox', 'plots', 'unusual', 'gold', 'danny', 'remarkable', 'friendship', 'wood', 'pacing', 'desert', 'lord', 'jr', 'captured', 'criminal', 'joy', 'ring', 'opposite', 'heads', 'gags', 'moon', 'driving', 'nicely', 'met', 'grand', 'build', 'desperate', 'scared', 'loose', 'discover', 'academy', 'mental', 'johnny', 'noticed', 'stephen', 'months', 'learned', 'vhs', 'mine', 'mike', 'lovers', 'villains', 'memories', 'locations', 'whilst', 'leader', 'boat', 'stock', 'engaging', 'treat', 'golden', 'creating', 'responsible', 'powers', 'officer', 'references', 'knowledge', 'brian', 'uncle', 'constant', 'humans', 'vision', 'jean', 'players', 'keeping', 'issue', 'treated', 'community', 'somebody', 'alan', 'board', 'cars', 'ordinary', 'starting', 'jackson', 'national', 'hadnt', 'technical', 'warning', 'arthur', 'unnecessary', 'manage', 'lowbudget', 'artist', 'al', 'hits', 'current', 'wind', 'sisters', 'prove', 'growing', 'lacking', 'finished', 'page', 'conflict', 'connection', 'mrs', 'fights', 'eddie', 'magnificent', 'price', 'smile', 'gotten', 'absurd', 'numerous', 'loving', 'occasionally', 'normally', 'player', 'record', 'explained', 'bigger', 'humanity', 'capture', 'crappy', 'mission', 'witty', 'killers', 'bright', 'floor', 'hopes', 'ford', 'genuine', 'according', 'field', 'murdered', 'deserved', 'saving', 'faith', 'private', 'forces', 'bob', 'finest', 'hitchcock', 'deals', 'legend', 'fail', 'window', 'originally', 'loss', 'brown', 'length', 'skip', 'generation', 'behavior', 'desire', 'anne', 'realism', 'included', 'efforts', 'dressed', 'robin', 'instance', 'kinda', 'morning', 'sean', 'broken', 'shop', 'bland', 'dealing', 'eat', 'pilot', 'terribly', 'mixed', 'pulled', 'foreign', 'tape', 'singer', 'cuts', 'guns', 'humorous', 'aware', 'exist', 'whenever', 'howard', 'media', 'witch', 'toward', 'stone', 'comparison', 'c', 'naturally', 'relate', 'regular', 'advice', 'survive', 'jump', 'soap', 'quiet', 'teenagers', 'psychological', 'sheer', 'european', 'weve', 'featuring', 'unfunny', 'roll', 'buddy', 'pair', 'empty', 'essentially', 'discovered', 'reviewers', 'davis', 'jennifer', 'rubbish', 'streets', 'revealed', 'nonsense', 'international', 'genuinely', 'saved', 'cable', 'priest', 'texas', 'insane', 'cross', 'blind', 'favor', 'stereotypes', 'river', 'partner', 'higher', 'england', 'received', 'winning', 'feet', 'spanish', 'village', 'castle', 'miles', 'peoples', 'max', 'joan', 'frankly', 'suit', 'portray', 'underrated', 'heroine', 'moore', 'sign', 'study', 'utter', 'talents', 'unable', 'vampires', 'breaks', 'concerned', 'program', 'range', 'scream', 'president', 'skills', 'opens', 'steal', 'jeff', 'drunk', 'twenty', 'screaming', 'aliens', 'gary', 'reach', 'visit', 'ultimate', 'worlds', 'sing', 'dated', 'anthony', 'remembered', 'youth', 'continues', 'described', 'lucky', 'awkward', 'attitude', 'nightmare', 'results', 'context', 'reaction', 'owner', 'fate', 'debut', 'flashbacks', 'fame', 'vote', 'grow', 'evidence', 'dreadful', 'visuals', 'strength', '1950s', 'classics', 'ran', 'creatures', 'lesson', 'taylor', 'spectacular', 'travel', 'protagonist', 'post', 'irritating', 'sucked', 'wedding', 'ball', 'crowd', 'nick', 'unexpected', 'australian', 'allen', 'football', 'discovers', 'satire', 'edited', 'finale', 'heres', 'pretentious', 'unrealistic', 'shallow', 'corny', 'parody', 'gonna', 'cameo', 'failure', 'provided', 'adam', 'hunter', 'theyve', 'ladies', 'native', 'involves', 'sell', 'dogs', 'frame', 'grew', 'fault', 'commercial', 'identity', 'gory', 'site', 'curious', 'choose', 'levels', 'kick', 'heaven', 'wide', 'france', 'decision', 'tiny', 'logic', 'heck', 'freedom', 'fly', 'meeting', 'graphic', 'decade', 'contrived', 'delivered', 'lewis', 'cost', 'asking', 'endless', 'bringing', 'bomb', 'jimmy', 'delightful', 'allows', 'ice', 'luck', 'rescue', 'existence', 'assume', 'andy', 'steven', 'fill', 'combination', 'eating', 'douglas', 'loses', 'remain', 'proved', 'perspective', 'bank', 'aka', 'capable', 'types', 'creates', 'gangster', 'standing', 'talks', 'destroy', 'drag', 'ages', 'emotionally', 'recall', 'bodies', 'traditional', 'sake', 'beach', 'relief', 'teenager', 'trek', 'eric', 'brilliantly', 'majority', 'believes', 'formula', 'rules', 'contrast', 'theaters', 'families', 'disgusting', 'asian', 'visually', 'north', 'barbara', 'julie', 'overly', 'speech', 'individual', '90s', 'portrays', 'sympathetic', 'europe', 'product', 'steals', 'reviewer', 'enemy', 'chick', 'promise', 'round', 'fathers', 'develop', 'ancient', 'seat', 'clean', 'horribly', 'cares', 'fred', 'wise', 'strongly', 'center', 'built', 'test', 'proper', 'author', 'viewed', 'halloween', 'jesus', 'treatment', 'united', 'shakespeare', 'cash', 'executed', 'crash', 'laughter', 'handsome', 'walked', 'sheriff', 'sudden', 'surreal', 'caused', 'research', 'dollars', 'walks', 'facts', 'meanwhile', 'correct', 'blonde', 'weeks', 'rise', 'dick', 'voices', 'sequels', 'candy', 'thoughts', 'dan', 'shocked', 'terror', 'kong', 'model', 'awards', 'theatrical', 'gene', 'embarrassing', 'portraying', 'clue', 'losing', 'alex', 'gratuitous', 'excited', 'tedious', 'matt', 'contemporary', '1970s', 'sky', 'japan', 'hopefully', 'studios', 'insult', 'dubbed', 'uk', 'matters', 'hall', '50s', 'produce', 'slapstick', 'rob', 'lousy', 'source', 'speed', 'r', 'network', 'soft', 'subtitles', 'largely', 'ann', 'passed', 'surface', 'core', 'alice', 'stopped', 'pleasant', 'chosen', 'hearing', 'experienced', 'suffering', 'twisted', 'depressing', 'send', 'learns', 'evening', 'cartoons', 'wayne', 'teens', 'extras', 'circumstances', 'darkness', 'painfully', 'marry', 'bet', 'technology', 'till', 'rose', 'wit', 'religion', 'bear', 'devil', 'fits', 'plans', 'depicted', 'costs', 'vehicle', 'pity', 'driver', 'nevertheless', 'committed', 'virtually', 'chief', 'sharp', 'larry', 'spends', 'mask', 'ruined', 'versions', 'rental', 'louis', 'spoil', 'prince', 'entertained', 'harris', 'flesh', 'amateurish', 'propaganda', 'lesbian', 'grown', 'relatively', 'witness', 'latest', 'paper', 'werewolf', 'sports', 'recognize', 'enter', 'tend', 'anna', 'exploitation', 'qualities', 'universal', 'service', 'saturday', 'influence', 'angles', 'jackie', 'factor', 'practically', 'holding', 'hunt', 'germany', 'convince', 'haunting', 'scare', 'bmovie', 'lake', 'bbc', 'lynch', 'halfway', 'albert', 'claim', 'patrick', 'ass', 'dennis', 'blow', 'angel', 'nominated', 'daughters', 'captures', 'universe', 'guilty', 'variety', 'segment', 'performed', 'skin', 'suffers', 'speaks', 'table', 'veteran', 'demons', 'sympathy', 'experiences', 'target', 'canadian', 'promising', 'asleep', 'professor', 'psycho', 'jungle', 'appropriate', 'extraordinary', 'substance', 'training', 'accidentally', 'previously', 'costume', 'jewish', 'conversation', 'hide', 'dry', 'morgan', 'presents', 'satisfying', 'calling', 'unfortunate', 'display', 'obsessed', 'appealing', 'truck', 'childrens', 'edward', 'harsh', 'featured', 'holmes', 'hanging', 'worthwhile', 'gordon', 'minds', 'handled', 'suspenseful', 'danger', 'friday', 'seasons', 'excitement', 'roberts', 'supernatural', 'keaton', 'department', 'joseph', 'movement', 'chose', 'f', 'robot', 'roger', 'cage', 'draw', 'hill', 'washington', 'reveal', 'breaking', 'idiot', 'tarzan', 'amateur', 'clichéd', 'deadly', 'continuity', 'figured', 'structure', 'turkey', 'haunted', 'directly', 'warm', 'massive', 'vietnam', 'encounter', 'claims', 'initial', 'regret', 'touches', 'trapped', 'adventures', 'routine', 'irish', 'prime', 'drop', 'cruel', 'abuse', 'offensive', 'broadway', 'bothered', 'serves', 'patient', 'andor', 'safe', 'accents', 'believed', 'winner', 'cutting', 'stereotypical', 'exact', 'closer', 'forgot', 'crying', 'mountain', 'degree', 'foot', 'statement', 'donald', 'destroyed', 'realizes', 'weekend', 'overthetop', 'refreshing', '1980s', 'lights', 'mainstream', 'lower', 'prepared', 'aint', 'peace', 'prior', 'pulls', 'naive', 'lane', 'deaths', 'covered', 'abandoned', 'favorites', 'westerns', 'sir', 'surprises', 'storytelling', 'unlikely', 'politics', 'amazingly', 'express', 'trilogy', 'section', 'kate', 'required', 'insight', 'colors', 'praise', 'kiss', 'scale', 'dude', 'interview', 'forth', 'elizabeth', 'remotely', 'seagal', 'market', 'stolen', 'anime', 'legendary', 'reporter', 'proud', 'interviews', 'melodrama', 'african', 'category', 'rule', 'gritty', 'prefer', 'effectively', 'wear', 'sorts', 'roy', 'africa', 'nurse', 'dean', 'urban', 'repeated', 'sons', 'walter', 'sides', 'greater', 'fish', 'inner', 'security', 'print', 'account', 'multiple', 'frightening', 'paced', 'hired', 'downright', 'occasional', 'highlight', 'execution', 'flashback', 'focused', 'spoof', 'reputation', 'explains', 'renting', 'everywhere', 'critical', 'wouldve', 'rights', 'wilson', 'artists', 'pile', 'southern', 'sounded', 'china', 'mexican', 'forgettable', 'narration', 'via', 'belief', 'grant', 'mistakes', 'hitler', 'mildly', 'quirky', 'magical', 'eight', 'rip', 'anderson', 'brooks', 'california', 'driven', 'simon', 'convinced', 'forest', 'welcome', 'deeper', 'raised', 'depiction', 'thankfully', 'stayed', 'false', 'junk', 'lifetime', 'parker', 'arrives', 'flight', 'heavily', 'productions', 'east', 'sun', 'fool', 'focuses', 'cell', 'whoever', 'weapons', 'position', 'paying', 'underground', 'necessarily', 'russell', 'fare', 'arms', 'alright', 'demon', 'closing', 'julia', 'designed', 'granted', 'ruin', 'johnson', 'serve', 'placed', 'ted', 'ripoff', 'figures', 'stranger', 'reveals', 'chaplin', 'rough', 'expression', 'dozen', 'usa', 'grave', 'tight', 'imagery', 'regarding', 'throws', 'sensitive', 'spite', 'superman', 'summary', 'listening', 'offered', 'miniseries', 'changing', 'atrocious', 'theory', 'buying', 'victor', 'hat', 'amazed', 'hed', 'shorts', 'curse', 'carries', 'throwing', 'blown', 'kinds', 'combined', 'campy', 'erotic', 'blockbuster', 'u', 'princess', 'bus', 'lonely', 'status', 'choices', 'path', 'decades', 'helen', 'drew', 'teeth', 'understood', 'scenario', 'jail', 'device', 'mature', 'dress', 'seek', 'subplot', 'task', 'birth', 'civil', 'mickey', 'couldve', 'passing', 'dracula', 'anger', 'indie', 'screening', 'brave', 'unconvincing', 'treasure', 'mere', 'lie', 'rolling', 'funnier', 'facial', 'significant', 'baseball', 'environment', 'st', 'ignore', 'skill', 'daniel', 'uninteresting', 'rain', 'chan', 'nude', 'massacre', 'stays', 'kim', 'sitcom', 'everyday', 'desperately', 'originality', 'goofy', 'wins', 'india', 'initially', 'served', 'flow', 'attempting', 'fu', 'join', 'nuclear', 'examples', 'entertain', 'causes', 'term', 'pregnant', 'struggling', 'complicated', 'laura', 'bugs', 'murphy', 'barry', 'lawyer', 'inept', 'base', 'charge', 'concert', 'j', 'succeeds', 'suck', 'timing', 'dinner', 'purely', 'faithful', 'scares', 'suffer', 'beast', 'gruesome', 'fbi', 'contain', 'jobs', 'reminiscent', 'hole', 'raw', 'criticism', 'metal', 'angle', 'warned', 'adding', 'paint', 'views', 'handle', 'learning', 'drinking', 'beloved', 'racism', 'carried', 'bore', 'rings', 'helping', 'murderer', 'remote', 'delivery', 'description', 'hong', 'mob', 'amongst', 'sleeping', 'touched', 'gas', 'novels', 'spy', 'nights', 'protagonists', 'drives', 'sarah', 'daily', 'racist', 'shadow', 'luke', 'separate', 'introduction', 'guest', 'code', 'medical', 'kane', 'crude', 'eg', 'perform', 'writerdirector', 'starred', 'inspiration', 'achieve', 'sunday', 'answers', 'cultural', 'dollar', 'wolf', 'host', 'enjoying', 'comical', 'drink', 'expressions', 'scientists', 'vacation', 'quest', 'afternoon', 'welles', 'blah', 'mothers', 'accepted', 'intellectual', 'internet', 'league', 'wwii', 'controversial', 'tree', 'disbelief', 'susan', 'retarded', 'scripts', 'related', 'santa', 'properly', 'wears', 'court', 'betty', 'obnoxious', 'determined', 'reference', 'ludicrous', 'assistant', 'bollywood', 'attacks', 'titles', 'flawed', 'contact', 'hence', 'oliver', 'hood', 'fourth', 'appreciated', 'tommy', 'extent', 'cowboy', 'tales', 'stupidity', 'arm', 'format', 'interpretation', 'picks', 'nonexistent', 'lisa', 'basis', 'protect', 'blair', 'punch', 'shut', 'thousands', 'criminals', 'albeit', 'caring', 'settings', 'le', 'revolves', 'fictional', 'carrying', 'experiment', 'mentally', 'ghosts', 'madness', 'notable', 'comedian', 'fabulous', 'entry', 'sum', 'von', 'breathtaking', 'ashamed', 'letting', 'mgm', 'tense', 'lazy', 'videos', 'greatly', 'strangely', 'gods', 'letter', 'catherine', 'credible', 'attacked', 'mindless', 'wealthy', 'ironic', 'par', 'los', 'struggles', 'breath', 'replaced', 'sold', 'fallen', 'credibility', 'sinister', 'vincent', 'escapes', 'woody', 'nonetheless', 'sleazy', 'chilling', 'convey', 'ron', 'san', 'stealing', 'balance', 'whereas', 'happiness', 'jon', 'challenge', 'gripping', 'topic', 'revolution', 'filmthe', 'steps', 'innocence', 'upset', 'warner', 'frequently', 'itthe', 'columbo', 'glass', 'risk', 'ratings', 'countries', 'tradition', 'opened', 'manager', 'honor', 'moviethe', 'michelle', 'cousin', 'idiotic', 'poignant', 'miller', 'dare', 'guard', 'lessons', 'socalled', 'flaw', 'storm', 'x', 'cynical', 'authentic', 'lloyd', 'union', 'raise', 'cheese', 'chuck', 'disagree', 'stops', 'lovable', 'exists', 'intensity', 'embarrassed', 'weapon', 'technique', 'cases', 'guessing', 'hundred', 'screenwriter', 'regard', 'graphics', 'stomach', 'clips', 'chair', 'advantage', 'horrific', 'confusion', 'exceptional', 'nowadays', 'hoffman', 'angels', 'proof', 'delight', 'courage', 'consists', 'clark', 'hang', 'bag', 'sword', 'matrix', 'hint', 'dear', 'suggests', 'rival', 'millions', 'creation', 'plastic', 'dislike', 'mexico', 'searching', 'hearts', 'bound', '1930s', 'friendly', 'cooper', 'repeat', 'greek', 'slight', 'dragon', 'tune', 'noted', 'kung', 'hiding', 'wasting', 'sexuality', 'snow', 'italy', 'franchise', 'seeking', 'attempted', 'jumps', 'obsession', 'midnight', 'riding', 'worry', 'sinatra', 'farm', 'remind', 'tour', 'mirror', 'jay', 'instantly', 'regardless', 'suffered', 'warn', 'tribute', 'soviet', 'appearances', 'dave', 'eastwood', 'bitter', 'thousand', 'walker', 'guide', 'jamie', 'stylish', 'lying', 'musicals', 'karen', 'stunts', 'marvelous', 'sings', 'hundreds', 'saves', 'troubled', 'silence', 'surrounding', 'nazi', '1960s', 'object', 'presentation', 'succeed', 'aired', 'mst3k', 'physically', 'appearing', 'refuses', 'technically', 'trick', 'spoken', 'coach', 'established', 'legs', 'maria', 'text', 'nazis', 'trial', 'closely', 'thief', 'ripped', 'invisible', 'reynolds', 'achieved', 'belongs', 'australia', 'brad', 'chases', 'teach', 'holiday', 'performers', 'meaningful', 'expert', 'n', 'sends', 'bridge', 'specific', 'burt', 'shines', 'dramas', 'overcome', 'techniques', 'tied', 'row', 'sutherland', 'attraction', 'rush', 'toy', 'andrews', 'non', 'successfully', 'germans', 'sally', 'adapted', 'checking', 'womans', 'bucks', 'equal', 'competent', 'alas', 'bobby', 'leslie', 'ninja', 'hooked', 'silver', 'condition', 'broke', 'suits', 'gross', 'lacked', 'iti', 'hardy', 'horses', 'birthday', 'exercise', 'fx', 'hills', 'notorious', 'solve', 'chasing', 'gotta', 'essence', 'useless', 'snakes', 'masters', 'grim', 'profound', 'imaginative', 'spending', 'fairy', 'torn', 'kidnapped', 'ha', 'navy', 'dawn', 'cameron', 'homage', 'burns', 'glimpse', 'flash', 'nose', 'crafted', 'dealt', 'consequences', 'briefly', 'irony', 'nine', 'fortunately', 'unforgettable', 'kennedy', 'quote', 'gag', 'nancy', 'caine', 'marie', 'busy', 'colorful', 'spots', 'shoots', 'intentions', 'moviei', 'wishes', 'concerns', 'jessica', 'importantly', 'thrilling', 'outer', 'crimes', 'aged', 'corner', 'opposed', 'individuals', 'aunt', 'dvds', 'struck', 'essential', 'identify', 'blows', 'guts', 'miscast', 'atmospheric', 'develops', 'perfection', 'needless', 'uninspired', 'shed', 'portrait', 'connected', 'persons', 'personalities', 'lone', 'uncomfortable', 'wanna', 'glory', 'shall', 'incident', 'outrageous', 'shape', 'repeatedly', 'annoyed', 'lesser', 'dialogs', 'drags', 'competition', 'faced', 'grows', 'pool', 'theyd', 'setup', 'oddly', 'shower', 'thrillers', 'jonathan', 'monkey', 'kicks', 'corrupt', 'doctors', 'subplots', 'husbands', 'striking', 'souls', 'stanwyck', 'stretch', 'pet', 'happily', 'freddy', 'enjoyment', 'trap', 'ad', 'revelation', 'rachel', 'knife', 'indians', 'returning', 'talked', 'korean', 'boredom', 'locked', 'infamous', 'ensemble', 'pat', 'rushed', 'suspects', 'cardboard', 'g', 'wave', 'carefully', 'beings', 'pack', 'neat', 'basement', 'blade', 'creators', 'camerawork', 'tricks', 'stan', 'acceptable', 'meat', 'revealing', 'stood', 'zone', 'shadows', 'string', 'ambitious', 'selling', '20th', 'increasingly', 'heist', 'encounters', 'notch', 'pride', 'elsewhere', 'precious', 'melodramatic', 'remaining', 'destruction', 'piano', 'stunt', 'nation', 'dragged', 'mouse', 'admire', 'cats', 'sophisticated', 'dropped', 'pacino', 'norman', 'weight', 'mass', 'emily', 'laid', 'oz', 'ralph', 'easier', 'philip', 'horrors', 'cameos', 'health', 'pulp', 'push', 'freeman', 'oneliners', 'oscars', 'godfather', 'pointed', 'mel', 'snake', 'victoria', 'reallife', 'foster', 'brand', 'toilet', 'cure', 'powell', 'hoped', 'dubbing', 'unintentionally', 'sentimental', 'handful', 'trite', 'attracted', 'bible', 'threw', 'gain', 'rogers', 'hunting', 'oil', '1st', 'accused', 'typically', 'magazine', 'redemption', 'territory', 'hardcore', 'performing', 'rid', 'curiosity', 'crisis', 'expensive', 'forgive', 'hbo', 'shark', 'jumping', 'battles', 'lion', 'buck', 'doors', 'minimal', 'packed', 'requires', 'intention', 'fifteen', 'library', 'beer', 'stole', 'response', 'pitch', 'relevant', 'khan', 'tremendous', 'importance', 'travels', 'ignored', 'size', 'sandra', 'horrendous', 'reasonable', 'rocks', 'engaged', 'thirty', 'eerie', 'stated', 'wicked', 'jerk', 'emma', 'commit', 'wonders', 'guilt', 'gothic', 'highlights', 'tons', 'backdrop', 'closeups', 'charisma', 'appalling', 'arnold', 'endearing', 'raped', 'clues', 'clint', 'bat', 'pulling', 'per', 'neighborhood', '40s', 'britain', 'inevitable', 'wake', 'argue', 'hype', 'breasts', 'dig', 'mid', 'month', 'sexually', 'pitt', 'brazil', 'laurel', 'demands', 'cave', 'mitchell', 'watches', 'allowing', 'burning', 'miserably', 'associated', 'restaurant', 'linda', 'countless', 'realise', 'beating', 'diane', 'providing', 'discovery', 'angeles', 'investigation', 'repetitive', 'intent', 'predator', '30s', 'loosely', 'shoes', 'elderly', 'messages', 'split', 'tall', 'dancer', 'colour', 'inspector', 'cabin', 'fortune', 'surrounded', 'lucy', 'bird', 'smoking', 'waters', 'believing', 'incoherent', 'cried', 'motivation', 'card', 'marks', 'sin', 'heat', 'documentaries', 'sidney', 'horrid', 'distant', 'officers', 'killings', 'fulci', 'shortly', 'possessed', 'characterization', 'subsequent', 'sub', 'staff', 'definite', 'someones', 'loser', 'catholic', 'broadcast', 'noble', 'hal', 'interaction', 'theyll', 'burton', 'ex', 'ranks', 'threat', 'commercials', 'occurs', 'poster', 'reasonably', 'detailed', 'corpse', 'displays', 'ocean', 'goal', 'shy', 'spoiled', 'vague', 'aforementioned', 'reactions', 'hitting', 'directorial', 'chicago', 'frustrated', 'burn', 'beaten', 'tortured', 'subjects', 'explosions', 'enters', 'trade', 'beats', 'press', 'factory', 'alexander', 'prevent', 'holly', 'audio', 'noise', 'concerning', 'eve', 'pushed', 'flynn', 'fears', 'pleasantly', 'escaped', 'causing', 'strikes', 'superbly', 'spiritual', 'fancy', 'medium', 'hip', 'bears', 'idiots', 'mansion', 'swedish', 'brilliance', 'currently', 'kings', 'chances', 'wondered', 'builds', 'picking', 'returned', 'arrive', 'aimed', 'buried', 'puppet', 'hire', 'charismatic', 'pleased', 'smoke', 'christ', 'resembles', 'areas', 'root', 'segments', 'extended', 'daring', 'neck', 'attached', 'notes', 'receive', 'stiff', 'stanley', 'arrested', 'hanks', 'outcome', 'jake', 'prisoners', 'carpenter', 'stronger', 'accomplished', 'wrestling', 'photographed', 'gift', 'matthau', 'walls', 'maker', 'presumably', 'groups', 'symbolism', 'thrills', 'button', 'virgin', 'spooky', 'evident', 'digital', 'lawrence', 'merit', 'bare', 'spare', 'load', 'represents', 'hysterical', 'heroic', 'strictly', 'larger', 'thumbs', 'continued', 'liking', 'grandfather', 'mustsee', 'connery', 'luckily', 'sole', 'flawless', 'pink', 'persona', 'virus', 'hamlet', 'willis', 'nearby', 'matthew', 'jealous', 'ridiculously', 'iii', 'glenn', 'rural', 'fitting', 'carl', 'ken', 'couples', 'connect', 'complaint', 'planning', 'afterwards', 'affected', 'genres', 'landscape', 'doll', 'critic', 'farce', 'delivering', 'signs', 'stooges', 'pie', 'cared', 'cia', 'worried', 'covers', 'tunes', 'cinderella', 'valley', 'em', 'trail', 'conspiracy', 'citizen', 'listed', 'editor', 'sticks', 'savage', 'bride', 'ups', 'disjointed', 'et', 'sadistic', 'occur', 'poverty', 'logical', 'amanda', 'timeless', 'possibility', 'draws', 'hatred', 'distance', 'brains', 'grey', 'admittedly', 'freak', 'agents', 'argument', 'strip', 'itll', 'ward', 'hudson', 'funeral', 'comfortable', 'resolution', 'dorothy', 'notably', 'terrifying', 'everyones', 'ian', 'abilities', 'cook', 'secrets', 'h', 'lab', 'devoid', 'broad', 'duty', 'generous', 'jeremy', 'bone', 'conversations', 'alltime', 'andrew', 'bergman', 'insulting', 'offering', 'worthless', 'kudos', 'bleak', 'claire', 'burned', 'chaos', 'bell', 'vast', 'inspiring', 'explicit', 'explore', 'improved', 'offended', 'swear', 'overacting', 'nelson', 'survival', 'projects', 'menacing', 'university', 'cup', 'twin', 'staying', 'adams', 'scientific', 'combat', 'w', 'mild', 'painting', 'airplane', 'celluloid', 'discussion', 'airport', 'drunken', 'morality', 'l', 'primarily', 'screams', 'obscure', 'generic', 'titanic', 'sidekick', 'gradually', 'bush', 'fired', 'achievement', 'roman', 'comics', 'traveling', 'overlooked', 'blend', 'unbelievably', 'dialogues', 'neighbor', 'overrated', 'alike', 'ireland', 'wallace', 'meaningless', 'dinosaurs', 'altogether', 'investigate', 'implausible', 'antics', 'butt', 'finger', 'scripted', 'gray', 'rick', 'scarlett', 'carol', 'craig', 'isolated', 'web', 'cameras', 'reached', 'disease', 'warrior', 'unpleasant', 'dedicated', 'eccentric', 'jazz', 'juvenile', 'lugosi', 'installment', 'overdone', 'hammer', 'russia', 'involvement', 'secretary', 'punk', 'shining', 'strike', 'chain', 'lou', 'spin', 'ironically', 'harder', 'devoted', 'careers', 'mile', 'differences', 'trio', 'cole', 'craft', 'murderous', 'sentence', 'wreck', 'goodness', 'dire', 'gentle', 'removed', 'contrary', 'plague', 'bathroom', 'sadness', 'specifically', 'wannabe', 'pretend', 'angela', 'executive', 'tarantino', 'mummy', 'politically', 'benefit', 'disturbed', 'bates', 'lyrics', 'rendition', 'ticket', 'yellow', 'judging', 'randy', 'porno', 'spike', 'popcorn', 'newspaper', 'influenced', 'mixture', 'orders', 'upper', 'buddies', 'baker', 'headed', 'ships', 'fighter', 'blues', 'frankenstein', 'prostitute', 'winds', 'crack', 'movements', 'absence', 'conventional', 'slightest', 'misses', 'racial', 'exaggerated', 'doomed', 'prisoner', 'canada', 'explaining', 'depression', 'beneath', 'kitchen', 'assassin', 'winter', 'cruise', 'ideal', 'duke', 'complain', 'recorded', 'partly', 'wax', 'elaborate', 'recognition', 'bullets', 'mario', 'holy', 'psychotic', 'stereotype', 'sloppy', 'models', 'museum', 'vicious', 'commented', 'staged', 'fields', 'aging', 'classical', 'robbery', 'francis', 'decisions', 'terrorist', 'relies', 'bin', 'subtlety', 'tracks', 'reduced', 'errors', 'relative', 'lifestyle', 'opinions', 'intrigued', 'pushing', 'clumsy', 'intrigue', 'unwatchable', 'liberal', 'titled', 'translation', 'producing', 'arrogant', 'ned', 'fatal', 'proceedings', 'satan', '2nd', 'e', 'lighthearted', 'rage', 'empire', 'shell', 'estate', 'highest', 'reaches', 'represent', 'convoluted', 'spell', 'preview', 'justin', 'enormous', 'darker', '1940s', 'sport', 'tear', 'explosion', 'ought', 'duo', 'coffee', 'afford', 'buildings', 'bands', 'pays', 'simplistic', 'owen', 'hopper', 'blatant', 'rank', 'drivel', 'carter', 'threatening', 'neil', 'poetry', 'agreed', 'cards', 'bruno', 'official', 'ruins', 'strangers', 'odds', 'versus', 'solely', 'planned', 'introduces', 'primary', 'iron', 'selfish', 'boot', 'franco', 'measure', 'manhattan', 'depicts', 'innovative', 'describes', 'gangsters', 'ruthless', 'involve', 'damage', 'illegal', 'tea', 'motives', 'inventive', 'scarecrow', 'hook', 'catches', 'fingers', 'unintentional', 'trees', 'tracy', 'workers', 'exposed', 'hitchcocks', 'philosophy', 'dignity', 'stinker', 'depressed', 'kidding', 'homosexual', 'recognized', 'captivating', 'garden', 'undoubtedly', 'eva', 'disc', 'lips', 'passes', 'lucas', 'splendid', 'narrator', 'thrill', 'murray', 'martha', 'onscreen', 'loads', 'myers', 'walken', 'failing', 'honesty', 'dozens', 'superficial', 'reunion', 'vegas', 'todd'])"
      ]
     },
     "execution_count": 7,
     "metadata": {},
     "output_type": "execute_result"
    }
   ],
   "source": [
    "vocab_to_int.keys()"
   ]
  },
  {
   "cell_type": "code",
   "execution_count": 8,
   "metadata": {},
   "outputs": [
    {
     "name": "stdout",
     "output_type": "stream",
     "text": [
      "[3, 1792, 934, 56, 3185, 284, 347, 2997, 107, 478, 467, 19, 57, 3068, 3185, 50, 469, 180, 107, 545, 52, 1589, 41, 41, 2338, 1324, 274, 469, 3227, 244, 231, 351, 3185, 238, 2396, 932, 2460, 1234, 418, 2354, 1070, 2804, 296, 211, 3533, 418, 234, 2299, 222, 34, 126, 7, 45, 166, 1160, 41, 547, 91, 159, 154, 432, 2818, 698, 84, 1131, 2332, 968, 698, 1269, 698, 58, 846, 87, 19, 284, 43, 103, 3068, 1435, 2049, 286, 45, 1406, 174, 1321, 1110, 3185, 88, 211, 1931, 1943, 469, 469, 2774, 377, 496, 14, 140, 13, 627, 688, 539, 1070, 547, 435, 802, 1842, 1070, 440, 56, 3185, 98, 300, 3566, 3085, 14, 1073, 3822, 389]\n",
      "one reviewers mentioned watching oz episode youll hooked right exactly happened methe first thing struck oz brutality unflinching scenes violence set right word go trust show faint hearted timid show pulls punches regards drugs sex violence hardcore classic use wordit called oz nickname given oswald maximum security state penitentary focuses mainly emerald city experimental section prison cells glass fronts face inwards privacy high agenda em city home manyaryans muslims gangstas latinos christians italians irish moreso scuffles death stares dodgy dealings shady agreements never far awayi would say main appeal show due fact goes shows wouldnt dare forget pretty pictures painted mainstream audiences forget charm forget romanceoz doesnt mess around first episode ever saw struck nasty surreal couldnt say ready watched developed taste oz got accustomed high levels graphic violence violence injustice crooked guards wholl sold nickel inmates wholl kill order get away well mannered middle class inmates turned prison bitches due lack street skills prison experience watching oz may become comfortable uncomfortable viewingthats get touch darker side\n"
     ]
    }
   ],
   "source": [
    "# Конвертируем слова в индексы\n",
    "reviews_int = []\n",
    "for text in preprocessed:\n",
    "    r = [vocab_to_int[word] for word in text.split() if vocab_to_int.get(word)]\n",
    "    reviews_int.append(r)\n",
    "print([i for i in reviews_int[0]])\n",
    "print(preprocessed[0])"
   ]
  },
  {
   "cell_type": "markdown",
   "metadata": {},
   "source": [
    "Формируем вход для Word2Vec – это вложенный список формата: \n",
    "\n",
    "```python\n",
    "[\n",
    "    ['это', 'первый', 'отзыв'],\n",
    "    ['это', 'второй', 'отзыв']\n",
    "]\n",
    "```"
   ]
  },
  {
   "cell_type": "code",
   "execution_count": 9,
   "metadata": {},
   "outputs": [
    {
     "data": {
      "text/plain": [
       "50000"
      ]
     },
     "execution_count": 9,
     "metadata": {},
     "output_type": "execute_result"
    }
   ],
   "source": [
    "len(preprocessed)"
   ]
  },
  {
   "cell_type": "code",
   "execution_count": 10,
   "metadata": {},
   "outputs": [
    {
     "name": "stdout",
     "output_type": "stream",
     "text": [
      "50000\n"
     ]
    }
   ],
   "source": [
    "w2v_input = []\n",
    "for review in preprocessed:\n",
    "    cur_review = []\n",
    "    for word in review.split():\n",
    "        if vocab_to_int.get(word):\n",
    "            cur_review.append(word)\n",
    "    w2v_input.append(cur_review)\n",
    "print(len(w2v_input))"
   ]
  },
  {
   "cell_type": "code",
   "execution_count": 11,
   "metadata": {},
   "outputs": [],
   "source": [
    "# вход для модели w2v – список списков слов, составляющих один отзыв о фильме\n",
    "VOCAB_SIZE = len(vocab_to_int) + 1  # add 1 for the padding token\n",
    "EMBEDDING_DIM = 64 # embedding_dim "
   ]
  },
  {
   "cell_type": "code",
   "execution_count": 12,
   "metadata": {},
   "outputs": [
    {
     "name": "stdout",
     "output_type": "stream",
     "text": [
      "Total reviews: 50000\n"
     ]
    }
   ],
   "source": [
    "# Обучим Word2Vec\n",
    "wv = Word2Vec(\n",
    "    min_count=1, # минимальная встречаемость в корпусе \n",
    "    vector_size=EMBEDDING_DIM # размерность вектора для слова\n",
    "    )\n",
    "wv.build_vocab(w2v_input)\n",
    "print(f'Total reviews: {wv.corpus_count}')"
   ]
  },
  {
   "cell_type": "code",
   "execution_count": 13,
   "metadata": {},
   "outputs": [
    {
     "data": {
      "text/plain": [
       "(42382032, 45274060)"
      ]
     },
     "execution_count": 13,
     "metadata": {},
     "output_type": "execute_result"
    }
   ],
   "source": [
    "# train word vectors\n",
    "wv.train(\n",
    "    corpus_iterable=w2v_input, \n",
    "    total_examples=wv.corpus_count, \n",
    "    epochs=10\n",
    "    )"
   ]
  },
  {
   "cell_type": "code",
   "execution_count": 14,
   "metadata": {},
   "outputs": [
    {
     "name": "stdout",
     "output_type": "stream",
     "text": [
      "0.7828623\n",
      "-0.21470839\n",
      "0.76721096\n",
      "[('film', 0.7828621864318848), ('moviei', 0.7498178482055664), ('flick', 0.6619417071342468), ('movies', 0.6439246535301208), ('really', 0.5846030712127686), ('moviethe', 0.5708484053611755), ('thing', 0.5701989531517029), ('actually', 0.5382648706436157), ('think', 0.5292170643806458), ('honestly', 0.527561604976654)]\n"
     ]
    }
   ],
   "source": [
    "# Похожесть слов\n",
    "print(wv.wv.similarity('film', 'movie'))\n",
    "print(wv.wv.similarity('film', 'car'))\n",
    "print(wv.wv.similarity('cat', 'dog'))\n",
    "\n",
    "# Близкие слова\n",
    "print(wv.wv.similar_by_word('movie'))"
   ]
  },
  {
   "cell_type": "code",
   "execution_count": 15,
   "metadata": {},
   "outputs": [
    {
     "name": "stdout",
     "output_type": "stream",
     "text": [
      "Number of words x EMEDDING_DIM: (3914, 64)\n"
     ]
    }
   ],
   "source": [
    "# Создаем слой эмбеддинга\n",
    "embedding_matrix = np.zeros((VOCAB_SIZE, EMBEDDING_DIM))\n",
    "\n",
    "# Бежим по всем словам словаря: если слово есть, достаем его вектор\n",
    "# если слова нет, то распечатываем его и пропускаем\n",
    "for word, i in vocab_to_int.items():\n",
    "    try:\n",
    "        embedding_vector = wv.wv[word]\n",
    "        embedding_matrix[i] = embedding_vector\n",
    "    except KeyError as e:\n",
    "        pass\n",
    "        print(f'{e}: word: {word}')\n",
    "        \n",
    "# Создаем предобученный эмбеддинг – этот слой в нашей сети обучаться не будет\n",
    "embedding_layer = nn.Embedding.from_pretrained(torch.FloatTensor(embedding_matrix))\n",
    "print(f'Number of words x EMEDDING_DIM: {embedding_matrix.shape}')"
   ]
  },
  {
   "cell_type": "code",
   "execution_count": 16,
   "metadata": {},
   "outputs": [
    {
     "name": "stdout",
     "output_type": "stream",
     "text": [
      "[   0    0    0    0    0    0    0    0    0    0    0    0    0    0\n",
      "    0    0    0    0    0    0  135 3585  388    1   11 3366  917  241\n",
      "   34  106   75  367   31  114  133   61  720  138  817 1552  397 1793\n",
      "    3  245 2011  466 2857  223  406    4  349   65  144   29 2684  486\n",
      "  583 1314   92  711 2489 3487 3101    1]\n"
     ]
    }
   ],
   "source": [
    "padded = padding(review_int=reviews_int, seq_len=64)\n",
    "print(padded[5])"
   ]
  },
  {
   "cell_type": "code",
   "execution_count": 17,
   "metadata": {},
   "outputs": [],
   "source": [
    "# train_test split + label encoding \n",
    "X_train, X_valid, y_train, y_valid = train_test_split(\n",
    "    np.array(padded),\n",
    "    pd.get_dummies(\n",
    "        df['sentiment'], \n",
    "        drop_first=True\n",
    "    ).values.astype('int'), test_size=0.2, random_state=1)"
   ]
  },
  {
   "cell_type": "code",
   "execution_count": 18,
   "metadata": {},
   "outputs": [],
   "source": [
    "BATCH_SIZE = 64\n",
    "\n",
    "train_data = TensorDataset(torch.from_numpy(X_train), torch.from_numpy(y_train))\n",
    "valid_data = TensorDataset(torch.from_numpy(X_valid), torch.from_numpy(y_valid))\n",
    "train_loader = DataLoader(train_data, shuffle=True, batch_size=BATCH_SIZE)\n",
    "valid_loader = DataLoader(valid_data, shuffle=True, batch_size=BATCH_SIZE)"
   ]
  },
  {
   "cell_type": "code",
   "execution_count": 19,
   "metadata": {},
   "outputs": [
    {
     "name": "stdout",
     "output_type": "stream",
     "text": [
      "Sample input size: BATCH_SIZE x SEQ_LEN torch.Size([64, 64])\n",
      "Sample input: \n",
      " tensor([[   0,    0,    0,  ...,   15, 2298, 3218],\n",
      "        [ 259,   73, 1071,  ...,   70,   26,   10],\n",
      "        [   0,    0,    0,  ...,  736, 1321,   24],\n",
      "        ...,\n",
      "        [   0,    0,    0,  ...,  104,   15,  417],\n",
      "        [  19,  139,  154,  ...,  195,  139,   41],\n",
      "        [   0,    0,    0,  ...,   10,  320,  398]])\n",
      "Sample input: \n",
      " tensor([[0],\n",
      "        [0],\n",
      "        [0],\n",
      "        [0],\n",
      "        [0],\n",
      "        [0],\n",
      "        [0],\n",
      "        [0],\n",
      "        [0],\n",
      "        [0]])\n"
     ]
    }
   ],
   "source": [
    "# посмотрим, что внутри\n",
    "dataiter = iter(train_loader)\n",
    "sample_x, sample_y = next(dataiter)\n",
    "\n",
    "print('Sample input size: BATCH_SIZE x SEQ_LEN', sample_x.size()) # batch_size, seq_length\n",
    "print('Sample input: \\n', sample_x)\n",
    "print('Sample input: \\n', sample_y[:10])"
   ]
  },
  {
   "cell_type": "code",
   "execution_count": 20,
   "metadata": {},
   "outputs": [],
   "source": [
    "device = 'cpu' #cuda' if torch.cuda.is_available() else 'cpu'"
   ]
  },
  {
   "cell_type": "code",
   "execution_count": 21,
   "metadata": {},
   "outputs": [],
   "source": [
    "HIDDEN_SIZE = 32"
   ]
  },
  {
   "cell_type": "code",
   "execution_count": 22,
   "metadata": {},
   "outputs": [
    {
     "data": {
      "text/plain": [
       "torch.Size([64, 128])"
      ]
     },
     "execution_count": 22,
     "metadata": {},
     "output_type": "execute_result"
    }
   ],
   "source": [
    "class ConcatAttention(nn.Module):\n",
    "    def __init__(\n",
    "            self, \n",
    "            hidden_size: int = HIDDEN_SIZE\n",
    "            ) -> None:\n",
    "        \n",
    "        super().__init__()\n",
    "        self.hidden_size = hidden_size\n",
    "        self.linear = nn.Linear(hidden_size, hidden_size)\n",
    "        self.align  = nn.Linear(hidden_size * 2, hidden_size)\n",
    "        self.tanh   = nn.Tanh()\n",
    "\n",
    "    def forward(\n",
    "            self, \n",
    "            lstm_outputs: torch.Tensor, # BATCH_SIZE x SEQ_LEN x HIDDEN_SIZE\n",
    "            final_hidden: torch.Tensor  # BATCH_SIZE x HIDDEN_SIZE\n",
    "            ) -> Tuple[torch.Tensor, torch.Tensor]:\n",
    "        \n",
    "        att_weights = self.linear(lstm_outputs)\n",
    "        # print(f'After linear: {att_weights.shape, final_hidden.unsqueeze(2).shape}')\n",
    "        att_weights = torch.bmm(att_weights, final_hidden.unsqueeze(2))\n",
    "        # print(f'After bmm: {att_weights.shape}')\n",
    "        att_weights = F.softmax(att_weights.squeeze(2), dim=1)\n",
    "        # print(f'After softmax: {att_weights.shape}')\n",
    "        cntxt       = torch.bmm(lstm_outputs.transpose(1, 2), att_weights.unsqueeze(2))\n",
    "        # print(f'Context: {cntxt.shape}')\n",
    "        concatted   = torch.cat((cntxt, final_hidden.unsqueeze(2)), dim=1)\n",
    "        # print(f'Concatted: {concatted.shape}')\n",
    "        att_hidden  = self.tanh(self.align(concatted.squeeze(-1)))\n",
    "        # print(f'Att Hidden: {att_hidden.shape}')\n",
    "        return att_hidden, att_weights\n",
    "\n",
    "# Test on random numbers\n",
    "ConcatAttention()(torch.randn(BATCH_SIZE, 128, HIDDEN_SIZE), torch.randn(BATCH_SIZE, HIDDEN_SIZE))[1].shape"
   ]
  },
  {
   "cell_type": "code",
   "execution_count": 23,
   "metadata": {},
   "outputs": [],
   "source": [
    "SEQ_LEN = 32"
   ]
  },
  {
   "cell_type": "code",
   "execution_count": 24,
   "metadata": {},
   "outputs": [],
   "source": [
    "class LSTMConcatAttention(nn.Module):\n",
    "    def __init__(self) -> None:\n",
    "        super().__init__()\n",
    "\n",
    "        # self.embedding = nn.Embedding(VOCAB_SIZE, EMBEDDING_DIM)\n",
    "        self.embedding = embedding_layer\n",
    "        self.lstm = nn.LSTM(EMBEDDING_DIM, HIDDEN_SIZE, batch_first=True)\n",
    "        self.attn = ConcatAttention(HIDDEN_SIZE)\n",
    "        self.clf = nn.Sequential(\n",
    "            nn.Linear(HIDDEN_SIZE, 128),\n",
    "            nn.Dropout(),\n",
    "            nn.Tanh(),\n",
    "            nn.Linear(128, 1)\n",
    "        )\n",
    "    \n",
    "    def forward(self, x):\n",
    "        embeddings = self.embedding(x)\n",
    "        outputs, (h_n, _) = self.lstm(embeddings)\n",
    "        att_hidden, att_weights = self.attn(outputs, h_n.squeeze(0))\n",
    "        out = self.clf(att_hidden)\n",
    "        return out, att_weights"
   ]
  },
  {
   "cell_type": "code",
   "execution_count": 25,
   "metadata": {},
   "outputs": [],
   "source": [
    "model_concat = LSTMConcatAttention()\n",
    "DEVICE='cpu'\n",
    "criterion = nn.BCEWithLogitsLoss()\n",
    "optimizer_concat = torch.optim.RMSprop(model_concat.parameters(), lr=0.001)\n",
    "\n",
    "metric = BinaryAccuracy() #BinaryAccuracy().to(device)"
   ]
  },
  {
   "cell_type": "code",
   "execution_count": 26,
   "metadata": {},
   "outputs": [
    {
     "name": "stdout",
     "output_type": "stream",
     "text": [
      "Epoch 1\n",
      "train_loss : 0.3780 val_loss : 0.3389\n",
      "train_accuracy : 0.83 val_accuracy : 0.85\n",
      "==================================================\n"
     ]
    }
   ],
   "source": [
    "train_losses, val_losses, train_metric, val_metric, rnn_time = train_attention_lstm(\n",
    "    1, model_concat, train_loader, valid_loader, optimizer_concat, criterion, metric\n",
    ")"
   ]
  },
  {
   "cell_type": "code",
   "execution_count": 27,
   "metadata": {},
   "outputs": [],
   "source": [
    "vocab_to_int['<pad>'] = 0"
   ]
  },
  {
   "cell_type": "code",
   "execution_count": 28,
   "metadata": {},
   "outputs": [],
   "source": [
    "int_to_vocab = {j:i for i, j in vocab_to_int.items()}"
   ]
  },
  {
   "cell_type": "code",
   "execution_count": 29,
   "metadata": {},
   "outputs": [],
   "source": [
    "def plot_and_predict(review: str, SEQ_LEN: int, model: nn.Module):\n",
    "    \"\"\"Predict class and draw word attention scores \n",
    "\n",
    "    Args:\n",
    "        review (str): Review text\n",
    "        SEQ_LEN (int): sequence length\n",
    "        model (nn.Module): trained model\n",
    "    \"\"\"\n",
    "    preprocessed = data_preprocessing(review) # preprocess string\n",
    "    inp = preprocess_single_string(review, SEQ_LEN, vocab_to_int)\n",
    "    model.eval()\n",
    "    with torch.inference_mode():\n",
    "        pred, att_scores = model(inp.long().unsqueeze(0))\n",
    "    plt.figure(figsize=(4, 8))\n",
    "    print(f'Prepocessed string: {preprocessed}')\n",
    "    print(f'Prediction {pred.sigmoid().item():.3f}')\n",
    "    plt.barh(np.arange(len(inp)), att_scores.detach().cpu().numpy()[0])\n",
    "    plt.yticks(\n",
    "        ticks = np.arange(len(inp)), \n",
    "        labels = [int_to_vocab[x.item()] for x in inp]\n",
    "        );"
   ]
  },
  {
   "cell_type": "code",
   "execution_count": 30,
   "metadata": {},
   "outputs": [
    {
     "name": "stdout",
     "output_type": "stream",
     "text": [
      "Prepocessed string: good interesting film\n",
      "Prediction 0.869\n"
     ]
    },
    {
     "data": {
      "image/png": "[encoded data removed]",
      "text/plain": [
       "<Figure size 400x800 with 1 Axes>"
      ]
     },
     "metadata": {},
     "output_type": "display_data"
    }
   ],
   "source": [
    "review = 'Very good and interesting film'\n",
    "plot_and_predict(\n",
    "    review = review, \n",
    "    SEQ_LEN=len(review.split()),\n",
    "    model = model_concat\n",
    ")\n"
   ]
  },
  {
   "cell_type": "code",
   "execution_count": null,
   "metadata": {},
   "outputs": [],
   "source": []
  }
 ],
 "metadata": {
  "kernelspec": {
   "display_name": "pt",
   "language": "python",
   "name": "python3"
  },
  "language_info": {
   "codemirror_mode": {
    "name": "ipython",
    "version": 3
   },
   "file_extension": ".py",
   "mimetype": "text/x-python",
   "name": "python",
   "nbconvert_exporter": "python",
   "pygments_lexer": "ipython3",
   "version": "3.9.15"
  },
  "orig_nbformat": 4
 },
 "nbformat": 4,
 "nbformat_minor": 2
}
