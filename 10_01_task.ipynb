{
  "cells": [
    {
      "cell_type": "markdown",
      "id": "97fe2913",
      "metadata": {
        "papermill": {
          "duration": 0.028457,
          "end_time": "2021-07-23T09:52:04.610203",
          "exception": false,
          "start_time": "2021-07-23T09:52:04.581746",
          "status": "completed"
        },
        "tags": [],
        "id": "97fe2913"
      },
      "source": [
        "# Фаза 2 • Неделя 10 • Понедельник\n",
        "## Обработка естественного языка\n",
        "### Рекуррентные нейронные сети • RNN & LSTM"
      ]
    },
    {
      "cell_type": "code",
      "source": [
        "import nltk\n",
        "nltk.download('stopwords')"
      ],
      "metadata": {
        "colab": {
          "base_uri": "https://localhost:8080/"
        },
        "id": "SDCGRE_ZiMm-",
        "outputId": "3468b23a-052c-4693-e068-282b47ae149d"
      },
      "id": "SDCGRE_ZiMm-",
      "execution_count": 1,
      "outputs": [
        {
          "output_type": "stream",
          "name": "stderr",
          "text": [
            "[nltk_data] Downloading package stopwords to /root/nltk_data...\n",
            "[nltk_data]   Unzipping corpora/stopwords.zip.\n"
          ]
        },
        {
          "output_type": "execute_result",
          "data": {
            "text/plain": [
              "True"
            ]
          },
          "metadata": {},
          "execution_count": 1
        }
      ]
    },
    {
      "cell_type": "code",
      "source": [
        "!pip install torchutils"
      ],
      "metadata": {
        "id": "HR7tiwuviTNx"
      },
      "id": "HR7tiwuviTNx",
      "execution_count": null,
      "outputs": []
    },
    {
      "cell_type": "code",
      "source": [
        "!pip install torchmetrics"
      ],
      "metadata": {
        "id": "ZaUn9Wzmiwoa"
      },
      "id": "ZaUn9Wzmiwoa",
      "execution_count": null,
      "outputs": []
    },
    {
      "cell_type": "code",
      "execution_count": 4,
      "id": "539bf435",
      "metadata": {
        "execution": {
          "iopub.execute_input": "2021-07-23T09:52:04.839482Z",
          "iopub.status.busy": "2021-07-23T09:52:04.838356Z",
          "iopub.status.idle": "2021-07-23T09:52:08.754663Z",
          "shell.execute_reply": "2021-07-23T09:52:08.753596Z",
          "shell.execute_reply.started": "2021-07-23T09:49:55.817337Z"
        },
        "papermill": {
          "duration": 3.983566,
          "end_time": "2021-07-23T09:52:08.754832",
          "exception": false,
          "start_time": "2021-07-23T09:52:04.771266",
          "status": "completed"
        },
        "tags": [],
        "id": "539bf435"
      },
      "outputs": [],
      "source": [
        "import os\n",
        "import numpy as np\n",
        "import pandas as pd\n",
        "\n",
        "import matplotlib.pyplot as plt\n",
        "\n",
        "import re\n",
        "import string\n",
        "from collections import Counter\n",
        "from nltk.corpus import stopwords\n",
        "stop_words = set(stopwords.words('english'))\n",
        "\n",
        "from sklearn.model_selection import train_test_split\n",
        "\n",
        "import torch\n",
        "from torch.utils.data import DataLoader, TensorDataset\n",
        "import torch.nn as nn\n",
        "import torchutils as tu\n",
        "from torchmetrics.classification import BinaryAccuracy"
      ]
    },
    {
      "cell_type": "code",
      "source": [
        "from google.colab import files\n",
        "uploaded = files.upload()"
      ],
      "metadata": {
        "colab": {
          "base_uri": "https://localhost:8080/",
          "height": 73
        },
        "id": "vl_rKqV6qKjR",
        "outputId": "2e412e66-2176-49ee-be71-891b8bddfa93"
      },
      "id": "vl_rKqV6qKjR",
      "execution_count": 5,
      "outputs": [
        {
          "output_type": "display_data",
          "data": {
            "text/plain": [
              "<IPython.core.display.HTML object>"
            ],
            "text/html": [
              "\n",
              "     <input type=\"file\" id=\"files-8aa7e193-c2eb-457a-9d17-cd0f2d2442cf\" name=\"files[]\" multiple disabled\n",
              "        style=\"border:none\" />\n",
              "     <output id=\"result-8aa7e193-c2eb-457a-9d17-cd0f2d2442cf\">\n",
              "      Upload widget is only available when the cell has been executed in the\n",
              "      current browser session. Please rerun this cell to enable.\n",
              "      </output>\n",
              "      <script>// Copyright 2017 Google LLC\n",
              "//\n",
              "// Licensed under the Apache License, Version 2.0 (the \"License\");\n",
              "// you may not use this file except in compliance with the License.\n",
              "// You may obtain a copy of the License at\n",
              "//\n",
              "//      http://www.apache.org/licenses/LICENSE-2.0\n",
              "//\n",
              "// Unless required by applicable law or agreed to in writing, software\n",
              "// distributed under the License is distributed on an \"AS IS\" BASIS,\n",
              "// WITHOUT WARRANTIES OR CONDITIONS OF ANY KIND, either express or implied.\n",
              "// See the License for the specific language governing permissions and\n",
              "// limitations under the License.\n",
              "\n",
              "/**\n",
              " * @fileoverview Helpers for google.colab Python module.\n",
              " */\n",
              "(function(scope) {\n",
              "function span(text, styleAttributes = {}) {\n",
              "  const element = document.createElement('span');\n",
              "  element.textContent = text;\n",
              "  for (const key of Object.keys(styleAttributes)) {\n",
              "    element.style[key] = styleAttributes[key];\n",
              "  }\n",
              "  return element;\n",
              "}\n",
              "\n",
              "// Max number of bytes which will be uploaded at a time.\n",
              "const MAX_PAYLOAD_SIZE = 100 * 1024;\n",
              "\n",
              "function _uploadFiles(inputId, outputId) {\n",
              "  const steps = uploadFilesStep(inputId, outputId);\n",
              "  const outputElement = document.getElementById(outputId);\n",
              "  // Cache steps on the outputElement to make it available for the next call\n",
              "  // to uploadFilesContinue from Python.\n",
              "  outputElement.steps = steps;\n",
              "\n",
              "  return _uploadFilesContinue(outputId);\n",
              "}\n",
              "\n",
              "// This is roughly an async generator (not supported in the browser yet),\n",
              "// where there are multiple asynchronous steps and the Python side is going\n",
              "// to poll for completion of each step.\n",
              "// This uses a Promise to block the python side on completion of each step,\n",
              "// then passes the result of the previous step as the input to the next step.\n",
              "function _uploadFilesContinue(outputId) {\n",
              "  const outputElement = document.getElementById(outputId);\n",
              "  const steps = outputElement.steps;\n",
              "\n",
              "  const next = steps.next(outputElement.lastPromiseValue);\n",
              "  return Promise.resolve(next.value.promise).then((value) => {\n",
              "    // Cache the last promise value to make it available to the next\n",
              "    // step of the generator.\n",
              "    outputElement.lastPromiseValue = value;\n",
              "    return next.value.response;\n",
              "  });\n",
              "}\n",
              "\n",
              "/**\n",
              " * Generator function which is called between each async step of the upload\n",
              " * process.\n",
              " * @param {string} inputId Element ID of the input file picker element.\n",
              " * @param {string} outputId Element ID of the output display.\n",
              " * @return {!Iterable<!Object>} Iterable of next steps.\n",
              " */\n",
              "function* uploadFilesStep(inputId, outputId) {\n",
              "  const inputElement = document.getElementById(inputId);\n",
              "  inputElement.disabled = false;\n",
              "\n",
              "  const outputElement = document.getElementById(outputId);\n",
              "  outputElement.innerHTML = '';\n",
              "\n",
              "  const pickedPromise = new Promise((resolve) => {\n",
              "    inputElement.addEventListener('change', (e) => {\n",
              "      resolve(e.target.files);\n",
              "    });\n",
              "  });\n",
              "\n",
              "  const cancel = document.createElement('button');\n",
              "  inputElement.parentElement.appendChild(cancel);\n",
              "  cancel.textContent = 'Cancel upload';\n",
              "  const cancelPromise = new Promise((resolve) => {\n",
              "    cancel.onclick = () => {\n",
              "      resolve(null);\n",
              "    };\n",
              "  });\n",
              "\n",
              "  // Wait for the user to pick the files.\n",
              "  const files = yield {\n",
              "    promise: Promise.race([pickedPromise, cancelPromise]),\n",
              "    response: {\n",
              "      action: 'starting',\n",
              "    }\n",
              "  };\n",
              "\n",
              "  cancel.remove();\n",
              "\n",
              "  // Disable the input element since further picks are not allowed.\n",
              "  inputElement.disabled = true;\n",
              "\n",
              "  if (!files) {\n",
              "    return {\n",
              "      response: {\n",
              "        action: 'complete',\n",
              "      }\n",
              "    };\n",
              "  }\n",
              "\n",
              "  for (const file of files) {\n",
              "    const li = document.createElement('li');\n",
              "    li.append(span(file.name, {fontWeight: 'bold'}));\n",
              "    li.append(span(\n",
              "        `(${file.type || 'n/a'}) - ${file.size} bytes, ` +\n",
              "        `last modified: ${\n",
              "            file.lastModifiedDate ? file.lastModifiedDate.toLocaleDateString() :\n",
              "                                    'n/a'} - `));\n",
              "    const percent = span('0% done');\n",
              "    li.appendChild(percent);\n",
              "\n",
              "    outputElement.appendChild(li);\n",
              "\n",
              "    const fileDataPromise = new Promise((resolve) => {\n",
              "      const reader = new FileReader();\n",
              "      reader.onload = (e) => {\n",
              "        resolve(e.target.result);\n",
              "      };\n",
              "      reader.readAsArrayBuffer(file);\n",
              "    });\n",
              "    // Wait for the data to be ready.\n",
              "    let fileData = yield {\n",
              "      promise: fileDataPromise,\n",
              "      response: {\n",
              "        action: 'continue',\n",
              "      }\n",
              "    };\n",
              "\n",
              "    // Use a chunked sending to avoid message size limits. See b/62115660.\n",
              "    let position = 0;\n",
              "    do {\n",
              "      const length = Math.min(fileData.byteLength - position, MAX_PAYLOAD_SIZE);\n",
              "      const chunk = new Uint8Array(fileData, position, length);\n",
              "      position += length;\n",
              "\n",
              "      const base64 = btoa(String.fromCharCode.apply(null, chunk));\n",
              "      yield {\n",
              "        response: {\n",
              "          action: 'append',\n",
              "          file: file.name,\n",
              "          data: base64,\n",
              "        },\n",
              "      };\n",
              "\n",
              "      let percentDone = fileData.byteLength === 0 ?\n",
              "          100 :\n",
              "          Math.round((position / fileData.byteLength) * 100);\n",
              "      percent.textContent = `${percentDone}% done`;\n",
              "\n",
              "    } while (position < fileData.byteLength);\n",
              "  }\n",
              "\n",
              "  // All done.\n",
              "  yield {\n",
              "    response: {\n",
              "      action: 'complete',\n",
              "    }\n",
              "  };\n",
              "}\n",
              "\n",
              "scope.google = scope.google || {};\n",
              "scope.google.colab = scope.google.colab || {};\n",
              "scope.google.colab._files = {\n",
              "  _uploadFiles,\n",
              "  _uploadFilesContinue,\n",
              "};\n",
              "})(self);\n",
              "</script> "
            ]
          },
          "metadata": {}
        },
        {
          "output_type": "stream",
          "name": "stdout",
          "text": [
            "Saving src.zip to src.zip\n"
          ]
        }
      ]
    },
    {
      "cell_type": "code",
      "source": [
        "import zipfile\n",
        "import io\n",
        "\n",
        "file_name = 'src.zip'\n",
        "\n",
        "with zipfile.ZipFile(io.BytesIO(uploaded[file_name]), 'r') as zip_ref:\n",
        "    zip_ref.extractall('/content')"
      ],
      "metadata": {
        "id": "mbxXuMzSqQfd"
      },
      "id": "mbxXuMzSqQfd",
      "execution_count": 6,
      "outputs": []
    },
    {
      "cell_type": "code",
      "source": [
        "import sys\n",
        "from dataclasses import dataclass\n",
        "from time import time\n",
        "sys.path.append('/content/src')\n",
        "from src.train_rnn import train\n",
        "from src.rnn_preprocessing import preprocess_single_string"
      ],
      "metadata": {
        "id": "jRSp8fYnnps1"
      },
      "id": "jRSp8fYnnps1",
      "execution_count": 7,
      "outputs": []
    },
    {
      "cell_type": "code",
      "execution_count": 9,
      "id": "a38585fc",
      "metadata": {
        "execution": {
          "iopub.execute_input": "2021-07-23T09:52:08.868628Z",
          "iopub.status.busy": "2021-07-23T09:52:08.867588Z",
          "iopub.status.idle": "2021-07-23T09:52:10.384886Z",
          "shell.execute_reply": "2021-07-23T09:52:10.384199Z",
          "shell.execute_reply.started": "2021-07-23T09:49:55.826424Z"
        },
        "papermill": {
          "duration": 1.549223,
          "end_time": "2021-07-23T09:52:10.385044",
          "exception": false,
          "start_time": "2021-07-23T09:52:08.835821",
          "status": "completed"
        },
        "tags": [],
        "colab": {
          "base_uri": "https://localhost:8080/",
          "height": 206
        },
        "id": "a38585fc",
        "outputId": "9257e195-62d4-4658-fff7-b674e2a99c3c"
      },
      "outputs": [
        {
          "output_type": "execute_result",
          "data": {
            "text/plain": [
              "                                              review sentiment\n",
              "0  One of the other reviewers has mentioned that ...  positive\n",
              "1  A wonderful little production. <br /><br />The...  positive\n",
              "2  I thought this was a wonderful way to spend ti...  positive\n",
              "3  Basically there's a family where a little boy ...  negative\n",
              "4  Petter Mattei's \"Love in the Time of Money\" is...  positive"
            ],
            "text/html": [
              "\n",
              "  <div id=\"df-2990af1e-aa48-4c18-9aff-ab8e53d36805\" class=\"colab-df-container\">\n",
              "    <div>\n",
              "<style scoped>\n",
              "    .dataframe tbody tr th:only-of-type {\n",
              "        vertical-align: middle;\n",
              "    }\n",
              "\n",
              "    .dataframe tbody tr th {\n",
              "        vertical-align: top;\n",
              "    }\n",
              "\n",
              "    .dataframe thead th {\n",
              "        text-align: right;\n",
              "    }\n",
              "</style>\n",
              "<table border=\"1\" class=\"dataframe\">\n",
              "  <thead>\n",
              "    <tr style=\"text-align: right;\">\n",
              "      <th></th>\n",
              "      <th>review</th>\n",
              "      <th>sentiment</th>\n",
              "    </tr>\n",
              "  </thead>\n",
              "  <tbody>\n",
              "    <tr>\n",
              "      <th>0</th>\n",
              "      <td>One of the other reviewers has mentioned that ...</td>\n",
              "      <td>positive</td>\n",
              "    </tr>\n",
              "    <tr>\n",
              "      <th>1</th>\n",
              "      <td>A wonderful little production. &lt;br /&gt;&lt;br /&gt;The...</td>\n",
              "      <td>positive</td>\n",
              "    </tr>\n",
              "    <tr>\n",
              "      <th>2</th>\n",
              "      <td>I thought this was a wonderful way to spend ti...</td>\n",
              "      <td>positive</td>\n",
              "    </tr>\n",
              "    <tr>\n",
              "      <th>3</th>\n",
              "      <td>Basically there's a family where a little boy ...</td>\n",
              "      <td>negative</td>\n",
              "    </tr>\n",
              "    <tr>\n",
              "      <th>4</th>\n",
              "      <td>Petter Mattei's \"Love in the Time of Money\" is...</td>\n",
              "      <td>positive</td>\n",
              "    </tr>\n",
              "  </tbody>\n",
              "</table>\n",
              "</div>\n",
              "    <div class=\"colab-df-buttons\">\n",
              "\n",
              "  <div class=\"colab-df-container\">\n",
              "    <button class=\"colab-df-convert\" onclick=\"convertToInteractive('df-2990af1e-aa48-4c18-9aff-ab8e53d36805')\"\n",
              "            title=\"Convert this dataframe to an interactive table.\"\n",
              "            style=\"display:none;\">\n",
              "\n",
              "  <svg xmlns=\"http://www.w3.org/2000/svg\" height=\"24px\" viewBox=\"0 -960 960 960\">\n",
              "    <path d=\"M120-120v-720h720v720H120Zm60-500h600v-160H180v160Zm220 220h160v-160H400v160Zm0 220h160v-160H400v160ZM180-400h160v-160H180v160Zm440 0h160v-160H620v160ZM180-180h160v-160H180v160Zm440 0h160v-160H620v160Z\"/>\n",
              "  </svg>\n",
              "    </button>\n",
              "\n",
              "  <style>\n",
              "    .colab-df-container {\n",
              "      display:flex;\n",
              "      gap: 12px;\n",
              "    }\n",
              "\n",
              "    .colab-df-convert {\n",
              "      background-color: #E8F0FE;\n",
              "      border: none;\n",
              "      border-radius: 50%;\n",
              "      cursor: pointer;\n",
              "      display: none;\n",
              "      fill: #1967D2;\n",
              "      height: 32px;\n",
              "      padding: 0 0 0 0;\n",
              "      width: 32px;\n",
              "    }\n",
              "\n",
              "    .colab-df-convert:hover {\n",
              "      background-color: #E2EBFA;\n",
              "      box-shadow: 0px 1px 2px rgba(60, 64, 67, 0.3), 0px 1px 3px 1px rgba(60, 64, 67, 0.15);\n",
              "      fill: #174EA6;\n",
              "    }\n",
              "\n",
              "    .colab-df-buttons div {\n",
              "      margin-bottom: 4px;\n",
              "    }\n",
              "\n",
              "    [theme=dark] .colab-df-convert {\n",
              "      background-color: #3B4455;\n",
              "      fill: #D2E3FC;\n",
              "    }\n",
              "\n",
              "    [theme=dark] .colab-df-convert:hover {\n",
              "      background-color: #434B5C;\n",
              "      box-shadow: 0px 1px 3px 1px rgba(0, 0, 0, 0.15);\n",
              "      filter: drop-shadow(0px 1px 2px rgba(0, 0, 0, 0.3));\n",
              "      fill: #FFFFFF;\n",
              "    }\n",
              "  </style>\n",
              "\n",
              "    <script>\n",
              "      const buttonEl =\n",
              "        document.querySelector('#df-2990af1e-aa48-4c18-9aff-ab8e53d36805 button.colab-df-convert');\n",
              "      buttonEl.style.display =\n",
              "        google.colab.kernel.accessAllowed ? 'block' : 'none';\n",
              "\n",
              "      async function convertToInteractive(key) {\n",
              "        const element = document.querySelector('#df-2990af1e-aa48-4c18-9aff-ab8e53d36805');\n",
              "        const dataTable =\n",
              "          await google.colab.kernel.invokeFunction('convertToInteractive',\n",
              "                                                    [key], {});\n",
              "        if (!dataTable) return;\n",
              "\n",
              "        const docLinkHtml = 'Like what you see? Visit the ' +\n",
              "          '<a target=\"_blank\" href=https://colab.research.google.com/notebooks/data_table.ipynb>data table notebook</a>'\n",
              "          + ' to learn more about interactive tables.';\n",
              "        element.innerHTML = '';\n",
              "        dataTable['output_type'] = 'display_data';\n",
              "        await google.colab.output.renderOutput(dataTable, element);\n",
              "        const docLink = document.createElement('div');\n",
              "        docLink.innerHTML = docLinkHtml;\n",
              "        element.appendChild(docLink);\n",
              "      }\n",
              "    </script>\n",
              "  </div>\n",
              "\n",
              "\n",
              "<div id=\"df-0ccaed76-b61d-4fe2-8479-25167f0df701\">\n",
              "  <button class=\"colab-df-quickchart\" onclick=\"quickchart('df-0ccaed76-b61d-4fe2-8479-25167f0df701')\"\n",
              "            title=\"Suggest charts\"\n",
              "            style=\"display:none;\">\n",
              "\n",
              "<svg xmlns=\"http://www.w3.org/2000/svg\" height=\"24px\"viewBox=\"0 0 24 24\"\n",
              "     width=\"24px\">\n",
              "    <g>\n",
              "        <path d=\"M19 3H5c-1.1 0-2 .9-2 2v14c0 1.1.9 2 2 2h14c1.1 0 2-.9 2-2V5c0-1.1-.9-2-2-2zM9 17H7v-7h2v7zm4 0h-2V7h2v10zm4 0h-2v-4h2v4z\"/>\n",
              "    </g>\n",
              "</svg>\n",
              "  </button>\n",
              "\n",
              "<style>\n",
              "  .colab-df-quickchart {\n",
              "      --bg-color: #E8F0FE;\n",
              "      --fill-color: #1967D2;\n",
              "      --hover-bg-color: #E2EBFA;\n",
              "      --hover-fill-color: #174EA6;\n",
              "      --disabled-fill-color: #AAA;\n",
              "      --disabled-bg-color: #DDD;\n",
              "  }\n",
              "\n",
              "  [theme=dark] .colab-df-quickchart {\n",
              "      --bg-color: #3B4455;\n",
              "      --fill-color: #D2E3FC;\n",
              "      --hover-bg-color: #434B5C;\n",
              "      --hover-fill-color: #FFFFFF;\n",
              "      --disabled-bg-color: #3B4455;\n",
              "      --disabled-fill-color: #666;\n",
              "  }\n",
              "\n",
              "  .colab-df-quickchart {\n",
              "    background-color: var(--bg-color);\n",
              "    border: none;\n",
              "    border-radius: 50%;\n",
              "    cursor: pointer;\n",
              "    display: none;\n",
              "    fill: var(--fill-color);\n",
              "    height: 32px;\n",
              "    padding: 0;\n",
              "    width: 32px;\n",
              "  }\n",
              "\n",
              "  .colab-df-quickchart:hover {\n",
              "    background-color: var(--hover-bg-color);\n",
              "    box-shadow: 0 1px 2px rgba(60, 64, 67, 0.3), 0 1px 3px 1px rgba(60, 64, 67, 0.15);\n",
              "    fill: var(--button-hover-fill-color);\n",
              "  }\n",
              "\n",
              "  .colab-df-quickchart-complete:disabled,\n",
              "  .colab-df-quickchart-complete:disabled:hover {\n",
              "    background-color: var(--disabled-bg-color);\n",
              "    fill: var(--disabled-fill-color);\n",
              "    box-shadow: none;\n",
              "  }\n",
              "\n",
              "  .colab-df-spinner {\n",
              "    border: 2px solid var(--fill-color);\n",
              "    border-color: transparent;\n",
              "    border-bottom-color: var(--fill-color);\n",
              "    animation:\n",
              "      spin 1s steps(1) infinite;\n",
              "  }\n",
              "\n",
              "  @keyframes spin {\n",
              "    0% {\n",
              "      border-color: transparent;\n",
              "      border-bottom-color: var(--fill-color);\n",
              "      border-left-color: var(--fill-color);\n",
              "    }\n",
              "    20% {\n",
              "      border-color: transparent;\n",
              "      border-left-color: var(--fill-color);\n",
              "      border-top-color: var(--fill-color);\n",
              "    }\n",
              "    30% {\n",
              "      border-color: transparent;\n",
              "      border-left-color: var(--fill-color);\n",
              "      border-top-color: var(--fill-color);\n",
              "      border-right-color: var(--fill-color);\n",
              "    }\n",
              "    40% {\n",
              "      border-color: transparent;\n",
              "      border-right-color: var(--fill-color);\n",
              "      border-top-color: var(--fill-color);\n",
              "    }\n",
              "    60% {\n",
              "      border-color: transparent;\n",
              "      border-right-color: var(--fill-color);\n",
              "    }\n",
              "    80% {\n",
              "      border-color: transparent;\n",
              "      border-right-color: var(--fill-color);\n",
              "      border-bottom-color: var(--fill-color);\n",
              "    }\n",
              "    90% {\n",
              "      border-color: transparent;\n",
              "      border-bottom-color: var(--fill-color);\n",
              "    }\n",
              "  }\n",
              "</style>\n",
              "\n",
              "  <script>\n",
              "    async function quickchart(key) {\n",
              "      const quickchartButtonEl =\n",
              "        document.querySelector('#' + key + ' button');\n",
              "      quickchartButtonEl.disabled = true;  // To prevent multiple clicks.\n",
              "      quickchartButtonEl.classList.add('colab-df-spinner');\n",
              "      try {\n",
              "        const charts = await google.colab.kernel.invokeFunction(\n",
              "            'suggestCharts', [key], {});\n",
              "      } catch (error) {\n",
              "        console.error('Error during call to suggestCharts:', error);\n",
              "      }\n",
              "      quickchartButtonEl.classList.remove('colab-df-spinner');\n",
              "      quickchartButtonEl.classList.add('colab-df-quickchart-complete');\n",
              "    }\n",
              "    (() => {\n",
              "      let quickchartButtonEl =\n",
              "        document.querySelector('#df-0ccaed76-b61d-4fe2-8479-25167f0df701 button');\n",
              "      quickchartButtonEl.style.display =\n",
              "        google.colab.kernel.accessAllowed ? 'block' : 'none';\n",
              "    })();\n",
              "  </script>\n",
              "</div>\n",
              "    </div>\n",
              "  </div>\n"
            ],
            "application/vnd.google.colaboratory.intrinsic+json": {
              "type": "dataframe",
              "variable_name": "df",
              "summary": "{\n  \"name\": \"df\",\n  \"rows\": 50000,\n  \"fields\": [\n    {\n      \"column\": \"review\",\n      \"properties\": {\n        \"dtype\": \"string\",\n        \"num_unique_values\": 49582,\n        \"samples\": [\n          \"\\\"Soul Plane\\\" is a horrible attempt at comedy that only should appeal people with thick skulls, bloodshot eyes and furry pawns. <br /><br />The plot is not only incoherent but also non-existent, acting is mostly sub sub-par with a gang of highly moronic and dreadful characters thrown in for bad measure, jokes are often spotted miles ahead and almost never even a bit amusing. This movie lacks any structure and is full of racial stereotypes that must have seemed old even in the fifties, the only thing it really has going for it is some pretty ladies, but really, if you want that you can rent something from the \\\"Adult\\\" section. OK?<br /><br />I can hardly see anything here to recommend since you'll probably have a lot a better and productive time chasing rats with a sledgehammer or inventing waterproof teabags or whatever.<br /><br />2/10\",\n          \"Guest from the Future tells a fascinating story of time travel, friendship, battle of good and evil -- all with a small budget, child actors, and few special effects. Something for Spielberg and Lucas to learn from. ;) A sixth-grader Kolya \\\"Nick\\\" Gerasimov finds a time machine in the basement of a decrepit building and travels 100 years into the future. He discovers a near-perfect, utopian society where robots play guitars and write poetry, everyone is kind to each other and people enjoy everything technology has to offer. Alice is the daughter of a prominent scientist who invented a device called Mielophone that allows to read minds of humans and animals. The device can be put to both good and bad use, depending on whose hands it falls into. When two evil space pirates from Saturn who want to rule the universe attempt to steal Mielophone, it falls into the hands of 20th century school boy Nick. With the pirates hot on his tracks, he travels back to his time, followed by the pirates, and Alice. Chaos, confusion and funny situations follow as the luckless pirates try to blend in with the earthlings. Alice enrolls in the same school Nick goes to and demonstrates superhuman abilities in PE class. The catch is, Alice doesn't know what Nick looks like, while the pirates do. Also, the pirates are able to change their appearance and turn literally into anyone. (Hmm, I wonder if this is where James Cameron got the idea for Terminator...) Who gets to Nick -- and Mielophone -- first? Excellent plot, non-stop adventures, and great soundtrack. I wish Hollywood made kid movies like this one...\",\n          \"\\\"National Treasure\\\" (2004) is a thoroughly misguided hodge-podge of plot entanglements that borrow from nearly every cloak and dagger government conspiracy clich\\u00e9 that has ever been written. The film stars Nicholas Cage as Benjamin Franklin Gates (how precious is that, I ask you?); a seemingly normal fellow who, for no other reason than being of a lineage of like-minded misguided fortune hunters, decides to steal a 'national treasure' that has been hidden by the United States founding fathers. After a bit of subtext and background that plays laughably (unintentionally) like Indiana Jones meets The Patriot, the film degenerates into one misguided whimsy after another \\u0096 attempting to create a 'Stanley Goodspeed' regurgitation of Nicholas Cage and launch the whole convoluted mess forward with a series of high octane, but disconnected misadventures.<br /><br />The relevancy and logic to having George Washington and his motley crew of patriots burying a king's ransom someplace on native soil, and then, going through the meticulous plan of leaving clues scattered throughout U.S. currency art work, is something that director Jon Turteltaub never quite gets around to explaining. Couldn't Washington found better usage for such wealth during the start up of the country? Hence, we are left with a mystery built on top of an enigma that is already on shaky ground by the time Ben appoints himself the new custodian of this untold wealth. Ben's intentions are noble \\u0096 if confusing. He's set on protecting the treasure. For who and when?\\u0085your guess is as good as mine.<br /><br />But there are a few problems with Ben's crusade. First up, his friend, Ian Holmes (Sean Bean) decides that he can't wait for Ben to make up his mind about stealing the Declaration of Independence from the National Archives (oh, yeah \\u0096 brilliant idea!). Presumably, the back of that famous document holds the secret answer to the ultimate fortune. So Ian tries to kill Ben. The assassination attempt is, of course, unsuccessful, if overly melodramatic. It also affords Ben the opportunity to pick up, and pick on, the very sultry curator of the archives, Abigail Chase (Diane Kruger). She thinks Ben is clearly a nut \\u0096 at least at the beginning. But true to action/romance form, Abby's resolve melts quicker than you can say, \\\"is that the Hope Diamond?\\\" The film moves into full X-File-ish mode, as the FBI, mistakenly believing that Ben is behind the theft, retaliate in various benign ways that lead to a multi-layering of action sequences reminiscent of Mission Impossible meets The Fugitive. Honestly, don't those guys ever get 'intelligence' information that is correct? In the final analysis, \\\"National Treasure\\\" isn't great film making, so much as it's a patchwork rehash of tired old bits from other movies, woven together from scraps, the likes of which would make IL' Betsy Ross blush.<br /><br />The Buena Vista DVD delivers a far more generous treatment than this film is deserving of. The anamorphic widescreen picture exhibits a very smooth and finely detailed image with very rich colors, natural flesh tones, solid blacks and clean whites. The stylized image is also free of blemishes and digital enhancements. The audio is 5.1 and delivers a nice sonic boom to your side and rear speakers with intensity and realism. Extras include a host of promotional junket material that is rather deep and over the top in its explanation of how and why this film was made. If only, as an audience, we had had more clarification as to why Ben and co. were chasing after an illusive treasure, this might have been one good flick. Extras conclude with the theatrical trailer, audio commentary and deleted scenes. Not for the faint-hearted \\u0096 just the thick-headed.\"\n        ],\n        \"semantic_type\": \"\",\n        \"description\": \"\"\n      }\n    },\n    {\n      \"column\": \"sentiment\",\n      \"properties\": {\n        \"dtype\": \"category\",\n        \"num_unique_values\": 2,\n        \"samples\": [\n          \"negative\",\n          \"positive\"\n        ],\n        \"semantic_type\": \"\",\n        \"description\": \"\"\n      }\n    }\n  ]\n}"
            }
          },
          "metadata": {},
          "execution_count": 9
        }
      ],
      "source": [
        "df = pd.read_csv('/content/imdb.csv')\n",
        "df.head()"
      ]
    },
    {
      "cell_type": "code",
      "execution_count": 10,
      "id": "2e87b56c",
      "metadata": {
        "execution": {
          "iopub.execute_input": "2021-07-23T09:52:10.513374Z",
          "iopub.status.busy": "2021-07-23T09:52:10.508155Z",
          "iopub.status.idle": "2021-07-23T09:52:22.103970Z",
          "shell.execute_reply": "2021-07-23T09:52:22.103452Z",
          "shell.execute_reply.started": "2021-07-23T09:49:56.420577Z"
        },
        "papermill": {
          "duration": 11.637556,
          "end_time": "2021-07-23T09:52:22.104155",
          "exception": false,
          "start_time": "2021-07-23T09:52:10.466599",
          "status": "completed"
        },
        "tags": [],
        "id": "2e87b56c"
      },
      "outputs": [],
      "source": [
        "def data_preprocessing(text: str) -> str:\n",
        "    \"\"\"preprocessing string: lowercase, removing html-tags, punctuation and stopwords\n",
        "\n",
        "    Args:\n",
        "        text (str): input string for preprocessing\n",
        "\n",
        "    Returns:\n",
        "        str: preprocessed string\n",
        "    \"\"\"\n",
        "\n",
        "    text = text.lower()\n",
        "    text = re.sub('<.*?>', '', text) # html tags\n",
        "    text = ''.join([c for c in text if c not in string.punctuation])# Remove punctuation\n",
        "    text = [word for word in text.split() if word not in stop_words]\n",
        "    text = ' '.join(text)\n",
        "    return text\n",
        "\n",
        "df['cleaned_reviews'] = df['review'].apply(data_preprocessing)"
      ]
    },
    {
      "cell_type": "code",
      "execution_count": 11,
      "id": "a9524d1d",
      "metadata": {
        "execution": {
          "iopub.execute_input": "2021-07-23T09:52:22.253826Z",
          "iopub.status.busy": "2021-07-23T09:52:22.243890Z",
          "iopub.status.idle": "2021-07-23T09:52:24.478610Z",
          "shell.execute_reply": "2021-07-23T09:52:24.477963Z",
          "shell.execute_reply.started": "2021-07-23T09:50:06.613771Z"
        },
        "papermill": {
          "duration": 2.291446,
          "end_time": "2021-07-23T09:52:24.478756",
          "exception": false,
          "start_time": "2021-07-23T09:52:22.187310",
          "status": "completed"
        },
        "tags": [],
        "id": "a9524d1d"
      },
      "outputs": [],
      "source": [
        "corpus = [word for text in df['cleaned_reviews'] for word in text.split()]\n",
        "count_words = Counter(corpus)\n",
        "\n",
        "sorted_words = count_words.most_common()\n"
      ]
    },
    {
      "cell_type": "code",
      "execution_count": 12,
      "id": "6f7ef773",
      "metadata": {
        "id": "6f7ef773"
      },
      "outputs": [],
      "source": [
        "def get_words_by_freq(sorted_words: list, n: int = 10) -> list:\n",
        "    return list(filter(lambda x: x[1] > n, sorted_words))"
      ]
    },
    {
      "cell_type": "code",
      "execution_count": 13,
      "id": "ab041eeb",
      "metadata": {
        "execution": {
          "iopub.execute_input": "2021-07-23T09:52:25.023413Z",
          "iopub.status.busy": "2021-07-23T09:52:25.013381Z",
          "iopub.status.idle": "2021-07-23T09:52:27.759090Z",
          "shell.execute_reply": "2021-07-23T09:52:27.759922Z",
          "shell.execute_reply.started": "2021-07-23T09:50:08.831473Z"
        },
        "papermill": {
          "duration": 2.809878,
          "end_time": "2021-07-23T09:52:27.760196",
          "exception": false,
          "start_time": "2021-07-23T09:52:24.950318",
          "status": "completed"
        },
        "tags": [],
        "id": "ab041eeb"
      },
      "outputs": [],
      "source": [
        "vocab_to_int = {w:i+1 for i, (w,c) in enumerate(sorted_words)}"
      ]
    },
    {
      "cell_type": "code",
      "execution_count": 14,
      "id": "c42c2fa9",
      "metadata": {
        "id": "c42c2fa9"
      },
      "outputs": [],
      "source": [
        "reviews_int = []\n",
        "for text in df['cleaned_reviews']:\n",
        "\n",
        "    r = [vocab_to_int[word] for word in text.split() if vocab_to_int.get(word)]\n",
        "    reviews_int.append(r)"
      ]
    },
    {
      "cell_type": "code",
      "execution_count": 15,
      "id": "8263d028",
      "metadata": {
        "execution": {
          "iopub.execute_input": "2021-07-23T09:52:27.886351Z",
          "iopub.status.busy": "2021-07-23T09:52:27.885219Z",
          "iopub.status.idle": "2021-07-23T09:52:27.942336Z",
          "shell.execute_reply": "2021-07-23T09:52:27.942893Z",
          "shell.execute_reply.started": "2021-07-23T09:50:10.805745Z"
        },
        "papermill": {
          "duration": 0.095364,
          "end_time": "2021-07-23T09:52:27.943132",
          "exception": false,
          "start_time": "2021-07-23T09:52:27.847768",
          "status": "completed"
        },
        "tags": [],
        "id": "8263d028"
      },
      "outputs": [],
      "source": [
        "df['sentiment'] = df['sentiment'].apply(lambda x: 1 if x == 'positive' else 0)"
      ]
    },
    {
      "cell_type": "code",
      "execution_count": 16,
      "id": "1382fda8",
      "metadata": {
        "execution": {
          "iopub.execute_input": "2021-07-23T09:52:28.091758Z",
          "iopub.status.busy": "2021-07-23T09:52:28.070225Z",
          "iopub.status.idle": "2021-07-23T09:52:28.113559Z",
          "shell.execute_reply": "2021-07-23T09:52:28.114105Z",
          "shell.execute_reply.started": "2021-07-23T09:50:10.859851Z"
        },
        "papermill": {
          "duration": 0.082938,
          "end_time": "2021-07-23T09:52:28.114317",
          "exception": false,
          "start_time": "2021-07-23T09:52:28.031379",
          "status": "completed"
        },
        "tags": [],
        "colab": {
          "base_uri": "https://localhost:8080/",
          "height": 206
        },
        "id": "1382fda8",
        "outputId": "447c287f-be90-4b09-d996-a750888acc40"
      },
      "outputs": [
        {
          "output_type": "execute_result",
          "data": {
            "text/plain": [
              "                                              review  sentiment  \\\n",
              "0  One of the other reviewers has mentioned that ...          1   \n",
              "1  A wonderful little production. <br /><br />The...          1   \n",
              "2  I thought this was a wonderful way to spend ti...          1   \n",
              "3  Basically there's a family where a little boy ...          0   \n",
              "4  Petter Mattei's \"Love in the Time of Money\" is...          1   \n",
              "\n",
              "                                     cleaned_reviews  Review len  \n",
              "0  one reviewers mentioned watching 1 oz episode ...         168  \n",
              "1  wonderful little production filming technique ...          84  \n",
              "2  thought wonderful way spend time hot summer we...          86  \n",
              "3  basically theres family little boy jake thinks...          67  \n",
              "4  petter matteis love time money visually stunni...         125  "
            ],
            "text/html": [
              "\n",
              "  <div id=\"df-5d7e29ab-98e5-4ff6-9af4-065cde780a8c\" class=\"colab-df-container\">\n",
              "    <div>\n",
              "<style scoped>\n",
              "    .dataframe tbody tr th:only-of-type {\n",
              "        vertical-align: middle;\n",
              "    }\n",
              "\n",
              "    .dataframe tbody tr th {\n",
              "        vertical-align: top;\n",
              "    }\n",
              "\n",
              "    .dataframe thead th {\n",
              "        text-align: right;\n",
              "    }\n",
              "</style>\n",
              "<table border=\"1\" class=\"dataframe\">\n",
              "  <thead>\n",
              "    <tr style=\"text-align: right;\">\n",
              "      <th></th>\n",
              "      <th>review</th>\n",
              "      <th>sentiment</th>\n",
              "      <th>cleaned_reviews</th>\n",
              "      <th>Review len</th>\n",
              "    </tr>\n",
              "  </thead>\n",
              "  <tbody>\n",
              "    <tr>\n",
              "      <th>0</th>\n",
              "      <td>One of the other reviewers has mentioned that ...</td>\n",
              "      <td>1</td>\n",
              "      <td>one reviewers mentioned watching 1 oz episode ...</td>\n",
              "      <td>168</td>\n",
              "    </tr>\n",
              "    <tr>\n",
              "      <th>1</th>\n",
              "      <td>A wonderful little production. &lt;br /&gt;&lt;br /&gt;The...</td>\n",
              "      <td>1</td>\n",
              "      <td>wonderful little production filming technique ...</td>\n",
              "      <td>84</td>\n",
              "    </tr>\n",
              "    <tr>\n",
              "      <th>2</th>\n",
              "      <td>I thought this was a wonderful way to spend ti...</td>\n",
              "      <td>1</td>\n",
              "      <td>thought wonderful way spend time hot summer we...</td>\n",
              "      <td>86</td>\n",
              "    </tr>\n",
              "    <tr>\n",
              "      <th>3</th>\n",
              "      <td>Basically there's a family where a little boy ...</td>\n",
              "      <td>0</td>\n",
              "      <td>basically theres family little boy jake thinks...</td>\n",
              "      <td>67</td>\n",
              "    </tr>\n",
              "    <tr>\n",
              "      <th>4</th>\n",
              "      <td>Petter Mattei's \"Love in the Time of Money\" is...</td>\n",
              "      <td>1</td>\n",
              "      <td>petter matteis love time money visually stunni...</td>\n",
              "      <td>125</td>\n",
              "    </tr>\n",
              "  </tbody>\n",
              "</table>\n",
              "</div>\n",
              "    <div class=\"colab-df-buttons\">\n",
              "\n",
              "  <div class=\"colab-df-container\">\n",
              "    <button class=\"colab-df-convert\" onclick=\"convertToInteractive('df-5d7e29ab-98e5-4ff6-9af4-065cde780a8c')\"\n",
              "            title=\"Convert this dataframe to an interactive table.\"\n",
              "            style=\"display:none;\">\n",
              "\n",
              "  <svg xmlns=\"http://www.w3.org/2000/svg\" height=\"24px\" viewBox=\"0 -960 960 960\">\n",
              "    <path d=\"M120-120v-720h720v720H120Zm60-500h600v-160H180v160Zm220 220h160v-160H400v160Zm0 220h160v-160H400v160ZM180-400h160v-160H180v160Zm440 0h160v-160H620v160ZM180-180h160v-160H180v160Zm440 0h160v-160H620v160Z\"/>\n",
              "  </svg>\n",
              "    </button>\n",
              "\n",
              "  <style>\n",
              "    .colab-df-container {\n",
              "      display:flex;\n",
              "      gap: 12px;\n",
              "    }\n",
              "\n",
              "    .colab-df-convert {\n",
              "      background-color: #E8F0FE;\n",
              "      border: none;\n",
              "      border-radius: 50%;\n",
              "      cursor: pointer;\n",
              "      display: none;\n",
              "      fill: #1967D2;\n",
              "      height: 32px;\n",
              "      padding: 0 0 0 0;\n",
              "      width: 32px;\n",
              "    }\n",
              "\n",
              "    .colab-df-convert:hover {\n",
              "      background-color: #E2EBFA;\n",
              "      box-shadow: 0px 1px 2px rgba(60, 64, 67, 0.3), 0px 1px 3px 1px rgba(60, 64, 67, 0.15);\n",
              "      fill: #174EA6;\n",
              "    }\n",
              "\n",
              "    .colab-df-buttons div {\n",
              "      margin-bottom: 4px;\n",
              "    }\n",
              "\n",
              "    [theme=dark] .colab-df-convert {\n",
              "      background-color: #3B4455;\n",
              "      fill: #D2E3FC;\n",
              "    }\n",
              "\n",
              "    [theme=dark] .colab-df-convert:hover {\n",
              "      background-color: #434B5C;\n",
              "      box-shadow: 0px 1px 3px 1px rgba(0, 0, 0, 0.15);\n",
              "      filter: drop-shadow(0px 1px 2px rgba(0, 0, 0, 0.3));\n",
              "      fill: #FFFFFF;\n",
              "    }\n",
              "  </style>\n",
              "\n",
              "    <script>\n",
              "      const buttonEl =\n",
              "        document.querySelector('#df-5d7e29ab-98e5-4ff6-9af4-065cde780a8c button.colab-df-convert');\n",
              "      buttonEl.style.display =\n",
              "        google.colab.kernel.accessAllowed ? 'block' : 'none';\n",
              "\n",
              "      async function convertToInteractive(key) {\n",
              "        const element = document.querySelector('#df-5d7e29ab-98e5-4ff6-9af4-065cde780a8c');\n",
              "        const dataTable =\n",
              "          await google.colab.kernel.invokeFunction('convertToInteractive',\n",
              "                                                    [key], {});\n",
              "        if (!dataTable) return;\n",
              "\n",
              "        const docLinkHtml = 'Like what you see? Visit the ' +\n",
              "          '<a target=\"_blank\" href=https://colab.research.google.com/notebooks/data_table.ipynb>data table notebook</a>'\n",
              "          + ' to learn more about interactive tables.';\n",
              "        element.innerHTML = '';\n",
              "        dataTable['output_type'] = 'display_data';\n",
              "        await google.colab.output.renderOutput(dataTable, element);\n",
              "        const docLink = document.createElement('div');\n",
              "        docLink.innerHTML = docLinkHtml;\n",
              "        element.appendChild(docLink);\n",
              "      }\n",
              "    </script>\n",
              "  </div>\n",
              "\n",
              "\n",
              "<div id=\"df-262289c4-2886-4215-b9fb-770c24d40c49\">\n",
              "  <button class=\"colab-df-quickchart\" onclick=\"quickchart('df-262289c4-2886-4215-b9fb-770c24d40c49')\"\n",
              "            title=\"Suggest charts\"\n",
              "            style=\"display:none;\">\n",
              "\n",
              "<svg xmlns=\"http://www.w3.org/2000/svg\" height=\"24px\"viewBox=\"0 0 24 24\"\n",
              "     width=\"24px\">\n",
              "    <g>\n",
              "        <path d=\"M19 3H5c-1.1 0-2 .9-2 2v14c0 1.1.9 2 2 2h14c1.1 0 2-.9 2-2V5c0-1.1-.9-2-2-2zM9 17H7v-7h2v7zm4 0h-2V7h2v10zm4 0h-2v-4h2v4z\"/>\n",
              "    </g>\n",
              "</svg>\n",
              "  </button>\n",
              "\n",
              "<style>\n",
              "  .colab-df-quickchart {\n",
              "      --bg-color: #E8F0FE;\n",
              "      --fill-color: #1967D2;\n",
              "      --hover-bg-color: #E2EBFA;\n",
              "      --hover-fill-color: #174EA6;\n",
              "      --disabled-fill-color: #AAA;\n",
              "      --disabled-bg-color: #DDD;\n",
              "  }\n",
              "\n",
              "  [theme=dark] .colab-df-quickchart {\n",
              "      --bg-color: #3B4455;\n",
              "      --fill-color: #D2E3FC;\n",
              "      --hover-bg-color: #434B5C;\n",
              "      --hover-fill-color: #FFFFFF;\n",
              "      --disabled-bg-color: #3B4455;\n",
              "      --disabled-fill-color: #666;\n",
              "  }\n",
              "\n",
              "  .colab-df-quickchart {\n",
              "    background-color: var(--bg-color);\n",
              "    border: none;\n",
              "    border-radius: 50%;\n",
              "    cursor: pointer;\n",
              "    display: none;\n",
              "    fill: var(--fill-color);\n",
              "    height: 32px;\n",
              "    padding: 0;\n",
              "    width: 32px;\n",
              "  }\n",
              "\n",
              "  .colab-df-quickchart:hover {\n",
              "    background-color: var(--hover-bg-color);\n",
              "    box-shadow: 0 1px 2px rgba(60, 64, 67, 0.3), 0 1px 3px 1px rgba(60, 64, 67, 0.15);\n",
              "    fill: var(--button-hover-fill-color);\n",
              "  }\n",
              "\n",
              "  .colab-df-quickchart-complete:disabled,\n",
              "  .colab-df-quickchart-complete:disabled:hover {\n",
              "    background-color: var(--disabled-bg-color);\n",
              "    fill: var(--disabled-fill-color);\n",
              "    box-shadow: none;\n",
              "  }\n",
              "\n",
              "  .colab-df-spinner {\n",
              "    border: 2px solid var(--fill-color);\n",
              "    border-color: transparent;\n",
              "    border-bottom-color: var(--fill-color);\n",
              "    animation:\n",
              "      spin 1s steps(1) infinite;\n",
              "  }\n",
              "\n",
              "  @keyframes spin {\n",
              "    0% {\n",
              "      border-color: transparent;\n",
              "      border-bottom-color: var(--fill-color);\n",
              "      border-left-color: var(--fill-color);\n",
              "    }\n",
              "    20% {\n",
              "      border-color: transparent;\n",
              "      border-left-color: var(--fill-color);\n",
              "      border-top-color: var(--fill-color);\n",
              "    }\n",
              "    30% {\n",
              "      border-color: transparent;\n",
              "      border-left-color: var(--fill-color);\n",
              "      border-top-color: var(--fill-color);\n",
              "      border-right-color: var(--fill-color);\n",
              "    }\n",
              "    40% {\n",
              "      border-color: transparent;\n",
              "      border-right-color: var(--fill-color);\n",
              "      border-top-color: var(--fill-color);\n",
              "    }\n",
              "    60% {\n",
              "      border-color: transparent;\n",
              "      border-right-color: var(--fill-color);\n",
              "    }\n",
              "    80% {\n",
              "      border-color: transparent;\n",
              "      border-right-color: var(--fill-color);\n",
              "      border-bottom-color: var(--fill-color);\n",
              "    }\n",
              "    90% {\n",
              "      border-color: transparent;\n",
              "      border-bottom-color: var(--fill-color);\n",
              "    }\n",
              "  }\n",
              "</style>\n",
              "\n",
              "  <script>\n",
              "    async function quickchart(key) {\n",
              "      const quickchartButtonEl =\n",
              "        document.querySelector('#' + key + ' button');\n",
              "      quickchartButtonEl.disabled = true;  // To prevent multiple clicks.\n",
              "      quickchartButtonEl.classList.add('colab-df-spinner');\n",
              "      try {\n",
              "        const charts = await google.colab.kernel.invokeFunction(\n",
              "            'suggestCharts', [key], {});\n",
              "      } catch (error) {\n",
              "        console.error('Error during call to suggestCharts:', error);\n",
              "      }\n",
              "      quickchartButtonEl.classList.remove('colab-df-spinner');\n",
              "      quickchartButtonEl.classList.add('colab-df-quickchart-complete');\n",
              "    }\n",
              "    (() => {\n",
              "      let quickchartButtonEl =\n",
              "        document.querySelector('#df-262289c4-2886-4215-b9fb-770c24d40c49 button');\n",
              "      quickchartButtonEl.style.display =\n",
              "        google.colab.kernel.accessAllowed ? 'block' : 'none';\n",
              "    })();\n",
              "  </script>\n",
              "</div>\n",
              "    </div>\n",
              "  </div>\n"
            ],
            "application/vnd.google.colaboratory.intrinsic+json": {
              "type": "dataframe",
              "variable_name": "df",
              "summary": "{\n  \"name\": \"df\",\n  \"rows\": 50000,\n  \"fields\": [\n    {\n      \"column\": \"review\",\n      \"properties\": {\n        \"dtype\": \"string\",\n        \"num_unique_values\": 49582,\n        \"samples\": [\n          \"\\\"Soul Plane\\\" is a horrible attempt at comedy that only should appeal people with thick skulls, bloodshot eyes and furry pawns. <br /><br />The plot is not only incoherent but also non-existent, acting is mostly sub sub-par with a gang of highly moronic and dreadful characters thrown in for bad measure, jokes are often spotted miles ahead and almost never even a bit amusing. This movie lacks any structure and is full of racial stereotypes that must have seemed old even in the fifties, the only thing it really has going for it is some pretty ladies, but really, if you want that you can rent something from the \\\"Adult\\\" section. OK?<br /><br />I can hardly see anything here to recommend since you'll probably have a lot a better and productive time chasing rats with a sledgehammer or inventing waterproof teabags or whatever.<br /><br />2/10\",\n          \"Guest from the Future tells a fascinating story of time travel, friendship, battle of good and evil -- all with a small budget, child actors, and few special effects. Something for Spielberg and Lucas to learn from. ;) A sixth-grader Kolya \\\"Nick\\\" Gerasimov finds a time machine in the basement of a decrepit building and travels 100 years into the future. He discovers a near-perfect, utopian society where robots play guitars and write poetry, everyone is kind to each other and people enjoy everything technology has to offer. Alice is the daughter of a prominent scientist who invented a device called Mielophone that allows to read minds of humans and animals. The device can be put to both good and bad use, depending on whose hands it falls into. When two evil space pirates from Saturn who want to rule the universe attempt to steal Mielophone, it falls into the hands of 20th century school boy Nick. With the pirates hot on his tracks, he travels back to his time, followed by the pirates, and Alice. Chaos, confusion and funny situations follow as the luckless pirates try to blend in with the earthlings. Alice enrolls in the same school Nick goes to and demonstrates superhuman abilities in PE class. The catch is, Alice doesn't know what Nick looks like, while the pirates do. Also, the pirates are able to change their appearance and turn literally into anyone. (Hmm, I wonder if this is where James Cameron got the idea for Terminator...) Who gets to Nick -- and Mielophone -- first? Excellent plot, non-stop adventures, and great soundtrack. I wish Hollywood made kid movies like this one...\",\n          \"\\\"National Treasure\\\" (2004) is a thoroughly misguided hodge-podge of plot entanglements that borrow from nearly every cloak and dagger government conspiracy clich\\u00e9 that has ever been written. The film stars Nicholas Cage as Benjamin Franklin Gates (how precious is that, I ask you?); a seemingly normal fellow who, for no other reason than being of a lineage of like-minded misguided fortune hunters, decides to steal a 'national treasure' that has been hidden by the United States founding fathers. After a bit of subtext and background that plays laughably (unintentionally) like Indiana Jones meets The Patriot, the film degenerates into one misguided whimsy after another \\u0096 attempting to create a 'Stanley Goodspeed' regurgitation of Nicholas Cage and launch the whole convoluted mess forward with a series of high octane, but disconnected misadventures.<br /><br />The relevancy and logic to having George Washington and his motley crew of patriots burying a king's ransom someplace on native soil, and then, going through the meticulous plan of leaving clues scattered throughout U.S. currency art work, is something that director Jon Turteltaub never quite gets around to explaining. Couldn't Washington found better usage for such wealth during the start up of the country? Hence, we are left with a mystery built on top of an enigma that is already on shaky ground by the time Ben appoints himself the new custodian of this untold wealth. Ben's intentions are noble \\u0096 if confusing. He's set on protecting the treasure. For who and when?\\u0085your guess is as good as mine.<br /><br />But there are a few problems with Ben's crusade. First up, his friend, Ian Holmes (Sean Bean) decides that he can't wait for Ben to make up his mind about stealing the Declaration of Independence from the National Archives (oh, yeah \\u0096 brilliant idea!). Presumably, the back of that famous document holds the secret answer to the ultimate fortune. So Ian tries to kill Ben. The assassination attempt is, of course, unsuccessful, if overly melodramatic. It also affords Ben the opportunity to pick up, and pick on, the very sultry curator of the archives, Abigail Chase (Diane Kruger). She thinks Ben is clearly a nut \\u0096 at least at the beginning. But true to action/romance form, Abby's resolve melts quicker than you can say, \\\"is that the Hope Diamond?\\\" The film moves into full X-File-ish mode, as the FBI, mistakenly believing that Ben is behind the theft, retaliate in various benign ways that lead to a multi-layering of action sequences reminiscent of Mission Impossible meets The Fugitive. Honestly, don't those guys ever get 'intelligence' information that is correct? In the final analysis, \\\"National Treasure\\\" isn't great film making, so much as it's a patchwork rehash of tired old bits from other movies, woven together from scraps, the likes of which would make IL' Betsy Ross blush.<br /><br />The Buena Vista DVD delivers a far more generous treatment than this film is deserving of. The anamorphic widescreen picture exhibits a very smooth and finely detailed image with very rich colors, natural flesh tones, solid blacks and clean whites. The stylized image is also free of blemishes and digital enhancements. The audio is 5.1 and delivers a nice sonic boom to your side and rear speakers with intensity and realism. Extras include a host of promotional junket material that is rather deep and over the top in its explanation of how and why this film was made. If only, as an audience, we had had more clarification as to why Ben and co. were chasing after an illusive treasure, this might have been one good flick. Extras conclude with the theatrical trailer, audio commentary and deleted scenes. Not for the faint-hearted \\u0096 just the thick-headed.\"\n        ],\n        \"semantic_type\": \"\",\n        \"description\": \"\"\n      }\n    },\n    {\n      \"column\": \"sentiment\",\n      \"properties\": {\n        \"dtype\": \"number\",\n        \"std\": 0,\n        \"min\": 0,\n        \"max\": 1,\n        \"num_unique_values\": 2,\n        \"samples\": [\n          0,\n          1\n        ],\n        \"semantic_type\": \"\",\n        \"description\": \"\"\n      }\n    },\n    {\n      \"column\": \"cleaned_reviews\",\n      \"properties\": {\n        \"dtype\": \"string\",\n        \"num_unique_values\": 49578,\n        \"samples\": [\n          \"since frame number 1 know good guy suit necktie doomed luck sorte nula believes music car radio dubious talk best friend company associate taking parts unknown desert road alberto wished simply left alone take flight abroad next day well someone left guessing film goes long way \\u0096 thatll find short \\u0096 closing scene man hearing music cab airport number lucky people found different ways story dying born others falling harrowing distress time hes really doomed film sort oneman show director fernando fragata left sound recording special effects competent people typically reject portuguese films due sound problems unclear speech recording must go searching topics criticize time car crash isnt spoilers film clever makes great scene apparently done cheap equipment us studios take notice may spare dollar two hiding competent portuguese directors rest done fragata script dialogue camera work editing part dialogue adlibbed must congratulated acting direction casting mostly inexperienced actors large number nonspeaking parts credited people used music video clip making used extensively films promotional trailer cast dozen actors actresses ten relevant persons huge number relationships \\u0096 revealed stepbystep thrilling suspenseful way reminiscent best genre authors alfred hitchcock qv claude chabrol qv come mind catandmouse play director public nature charactersi recommend thriller comedy portuguese language speakers film gets decent translation colloquial dialogue anyone abroad enjoys genres\",\n          \"dentist really good thriller pretty disturbing think agree chances running psycho dentist much bigger running monsters vampires zombies thats exactly movie scary film youll probably think dentist times whether hes capable thingsyou better pray wife doesnt cheat thats story respected dentist la snaps finds wife cheating poolboy must greatest profession world way poolboys always take advantage housewives husband work dentist dr feinstone thing taking revenge cant concentrate patients anymore couple get hurt things arent made easier dentist hes chased annoying taxcontroller curious cop suspicious staff member one point dr feinstone cant take anymore hes wife everyone comes near dentist written directed brian yuzna cowritten stuart gordon take recommendation 2 persons already gave us great horror movies personal favorites mine like reanimator beyond society dentist succeed bring entertaining chilling thriller film came right time actually decade hadnt brought us many great horror films far im saying masterpiece nice change corbin bensen great dentist obsessed hygiene remember mostly comedy drama actor sure handle psychotic character rest cast good work woman plays feinstones wife really attractive also great see ken foree acting actor time favorite movie dawn dead plays cop film yuzna casted beyond 15 years ago thank dont recommend movie everyone weak stomach ill advise skip watch youll enjoy much youll disgustedbut thats extra reason think since really freaked watching film great topic handle genre yuzna great way bad film followed completely unnecessary sequel humble opinion dentist 810\"\n        ],\n        \"semantic_type\": \"\",\n        \"description\": \"\"\n      }\n    },\n    {\n      \"column\": \"Review len\",\n      \"properties\": {\n        \"dtype\": \"number\",\n        \"std\": 90,\n        \"min\": 3,\n        \"max\": 1429,\n        \"num_unique_values\": 607,\n        \"samples\": [\n          489,\n          133\n        ],\n        \"semantic_type\": \"\",\n        \"description\": \"\"\n      }\n    }\n  ]\n}"
            }
          },
          "metadata": {},
          "execution_count": 16
        }
      ],
      "source": [
        "review_len = [len(x) for x in reviews_int]\n",
        "df['Review len'] = review_len\n",
        "df.head()"
      ]
    },
    {
      "cell_type": "code",
      "execution_count": 17,
      "id": "d0d5e3b9",
      "metadata": {
        "execution": {
          "iopub.execute_input": "2021-07-23T09:52:28.642045Z",
          "iopub.status.busy": "2021-07-23T09:52:28.641069Z",
          "iopub.status.idle": "2021-07-23T09:52:28.644854Z",
          "shell.execute_reply": "2021-07-23T09:52:28.644306Z",
          "shell.execute_reply.started": "2021-07-23T09:50:11.098471Z"
        },
        "papermill": {
          "duration": 0.041961,
          "end_time": "2021-07-23T09:52:28.645008",
          "exception": false,
          "start_time": "2021-07-23T09:52:28.603047",
          "status": "completed"
        },
        "tags": [],
        "id": "d0d5e3b9"
      },
      "outputs": [],
      "source": [
        "def padding(review_int: list, seq_len: int) -> np.array:\n",
        "    \"\"\"Make left-sided padding for input list of tokens\n",
        "\n",
        "    Args:\n",
        "        review_int (list): input list of tokens\n",
        "        seq_len (int): max length of sequence, it len(review_int[i]) > seq_len it will be trimmed, else it will be padded by zeros\n",
        "\n",
        "    Returns:\n",
        "        np.array: padded sequences\n",
        "    \"\"\"\n",
        "    features = np.zeros((len(reviews_int), seq_len), dtype = int)\n",
        "    for i, review in enumerate(review_int):\n",
        "        if len(review) <= seq_len:\n",
        "            zeros = list(np.zeros(seq_len - len(review)))\n",
        "            new = zeros + review\n",
        "        else:\n",
        "            new = review[: seq_len]\n",
        "        features[i, :] = np.array(new)\n",
        "\n",
        "    return features"
      ]
    },
    {
      "cell_type": "code",
      "execution_count": 18,
      "id": "3b30d122",
      "metadata": {
        "id": "3b30d122"
      },
      "outputs": [],
      "source": [
        "def preprocess_single_string(input_string: str, seq_len: int, vocab_to_int: dict = vocab_to_int) -> list:\n",
        "    \"\"\"Function for all preprocessing steps on a single string\n",
        "\n",
        "    Args:\n",
        "        input_string (str): input single string for preprocessing\n",
        "        seq_len (int): max length of sequence, it len(review_int[i]) > seq_len it will be trimmed, else it will be padded by zeros\n",
        "        vocab_to_int (dict, optional): word corpus {'word' : int index}. Defaults to vocab_to_int.\n",
        "\n",
        "    Returns:\n",
        "        list: preprocessed string\n",
        "    \"\"\"\n",
        "\n",
        "    preprocessed_string = data_preprocessing(input_string)\n",
        "    result_list = []\n",
        "    for word in preprocessed_string.split():\n",
        "        try:\n",
        "            result_list.append(vocab_to_int[word])\n",
        "        except KeyError as e:\n",
        "            print(f'{e}: not in dictionary!')\n",
        "    result_padded = padding([result_list], seq_len)[0]\n",
        "\n",
        "    return torch.tensor(result_padded)"
      ]
    },
    {
      "cell_type": "code",
      "execution_count": 19,
      "id": "b41c8263",
      "metadata": {
        "execution": {
          "iopub.execute_input": "2021-07-23T09:52:28.723054Z",
          "iopub.status.busy": "2021-07-23T09:52:28.721963Z",
          "iopub.status.idle": "2021-07-23T09:52:31.910961Z",
          "shell.execute_reply": "2021-07-23T09:52:31.910376Z",
          "shell.execute_reply.started": "2021-07-23T09:50:11.107162Z"
        },
        "papermill": {
          "duration": 3.234973,
          "end_time": "2021-07-23T09:52:31.911139",
          "exception": false,
          "start_time": "2021-07-23T09:52:28.676166",
          "status": "completed"
        },
        "tags": [],
        "colab": {
          "base_uri": "https://localhost:8080/"
        },
        "id": "b41c8263",
        "outputId": "ed933a67-7916-41c3-c5cf-cddc767b4548"
      },
      "outputs": [
        {
          "output_type": "stream",
          "name": "stdout",
          "text": [
            "[  572   124   136    37   327  3493  1071   124   908  4207   630   883\n",
            " 13189     1  7877  1794  1248   958  3493   933   302  5835   380 83236\n",
            "    19   215    70    23     2   110   993   653]\n"
          ]
        }
      ],
      "source": [
        "SEQ_LEN = 32\n",
        "features = padding(reviews_int, SEQ_LEN)\n",
        "print(features[3, :])"
      ]
    },
    {
      "cell_type": "code",
      "execution_count": 20,
      "id": "a70e52a0",
      "metadata": {
        "execution": {
          "iopub.execute_input": "2021-07-23T09:52:32.049182Z",
          "iopub.status.busy": "2021-07-23T09:52:32.047626Z",
          "iopub.status.idle": "2021-07-23T09:52:32.100156Z",
          "shell.execute_reply": "2021-07-23T09:52:32.099509Z",
          "shell.execute_reply.started": "2021-07-23T09:50:14.783770Z"
        },
        "papermill": {
          "duration": 0.093378,
          "end_time": "2021-07-23T09:52:32.100338",
          "exception": false,
          "start_time": "2021-07-23T09:52:32.006960",
          "status": "completed"
        },
        "tags": [],
        "id": "a70e52a0"
      },
      "outputs": [],
      "source": [
        "X_train, X_valid, y_train, y_valid = train_test_split(features, df['sentiment'].to_numpy(), test_size=0.2, random_state=1)"
      ]
    },
    {
      "cell_type": "code",
      "execution_count": 21,
      "id": "4d0db1d1",
      "metadata": {
        "execution": {
          "iopub.execute_input": "2021-07-23T09:52:32.249896Z",
          "iopub.status.busy": "2021-07-23T09:52:32.248717Z",
          "iopub.status.idle": "2021-07-23T09:52:32.252460Z",
          "shell.execute_reply": "2021-07-23T09:52:32.251867Z",
          "shell.execute_reply.started": "2021-07-23T09:50:14.831880Z"
        },
        "papermill": {
          "duration": 0.055896,
          "end_time": "2021-07-23T09:52:32.252613",
          "exception": false,
          "start_time": "2021-07-23T09:52:32.196717",
          "status": "completed"
        },
        "tags": [],
        "id": "4d0db1d1"
      },
      "outputs": [],
      "source": [
        "\n",
        "train_data = TensorDataset(torch.from_numpy(X_train), torch.from_numpy(y_train))\n",
        "valid_data = TensorDataset(torch.from_numpy(X_valid), torch.from_numpy(y_valid))\n",
        "\n",
        "\n",
        "BATCH_SIZE = 32\n",
        "\n",
        "train_loader = DataLoader(train_data, shuffle=True, batch_size=BATCH_SIZE, drop_last=True)\n",
        "valid_loader = DataLoader(valid_data, shuffle=True, batch_size=BATCH_SIZE, drop_last=True)"
      ]
    },
    {
      "cell_type": "code",
      "execution_count": 22,
      "id": "f56bcc42",
      "metadata": {
        "id": "f56bcc42"
      },
      "outputs": [],
      "source": [
        "VOCAB_SIZE = len(vocab_to_int)+1"
      ]
    },
    {
      "cell_type": "code",
      "execution_count": 23,
      "id": "276b257c",
      "metadata": {
        "execution": {
          "iopub.execute_input": "2021-07-23T09:52:32.324350Z",
          "iopub.status.busy": "2021-07-23T09:52:32.323590Z",
          "iopub.status.idle": "2021-07-23T09:52:32.378319Z",
          "shell.execute_reply": "2021-07-23T09:52:32.378921Z",
          "shell.execute_reply.started": "2021-07-23T09:50:14.840911Z"
        },
        "papermill": {
          "duration": 0.095343,
          "end_time": "2021-07-23T09:52:32.379148",
          "exception": false,
          "start_time": "2021-07-23T09:52:32.283805",
          "status": "completed"
        },
        "tags": [],
        "id": "276b257c"
      },
      "outputs": [],
      "source": [
        "dataiter = iter(train_loader)\n",
        "sample_x, sample_y = next(dataiter)"
      ]
    },
    {
      "cell_type": "code",
      "execution_count": 24,
      "id": "00b9cfd6",
      "metadata": {
        "id": "00b9cfd6"
      },
      "outputs": [],
      "source": [
        "device='cpu'"
      ]
    },
    {
      "cell_type": "markdown",
      "id": "ffeef357",
      "metadata": {
        "id": "ffeef357"
      },
      "source": [
        "PyTorch: [docs](https://pytorch.org/docs/stable/generated/torch.nn.RNN.html)"
      ]
    },
    {
      "cell_type": "markdown",
      "id": "d67302ff",
      "metadata": {
        "id": "d67302ff"
      },
      "source": [
        "#### Задание 1\n",
        "\n",
        "Создай модель со следующими параметрами и примени `get_model_summary`:\n",
        "- два RNN-слоя (это параметр в слое, а не отдельные компоненты сети)\n",
        "- 32 - размер hidden state\n",
        "- 64 - размер эмбеддинг-слоя"
      ]
    },
    {
      "cell_type": "code",
      "source": [
        "@dataclass\n",
        "class ConfigRNN:\n",
        "    vocab_size: int\n",
        "    device: str\n",
        "    n_layers: int\n",
        "    embedding_dim: int\n",
        "    hidden_size: int\n",
        "    seq_len: int\n",
        "    bidirectional: bool or int"
      ],
      "metadata": {
        "id": "GGOF7h31nbSd"
      },
      "id": "GGOF7h31nbSd",
      "execution_count": 25,
      "outputs": []
    },
    {
      "cell_type": "code",
      "source": [
        "net_config = ConfigRNN(\n",
        "    vocab_size=len(vocab_to_int) + 1,\n",
        "    device=\"cpu\",\n",
        "    n_layers=2,\n",
        "    embedding_dim=64,\n",
        "    hidden_size=32,\n",
        "    seq_len=SEQ_LEN,\n",
        "    bidirectional=False,\n",
        ")\n",
        "net_config"
      ],
      "metadata": {
        "colab": {
          "base_uri": "https://localhost:8080/"
        },
        "id": "oqBgUKRxqrqU",
        "outputId": "efa4d7f4-2a53-4128-f853-4698b55a8f80"
      },
      "id": "oqBgUKRxqrqU",
      "execution_count": 26,
      "outputs": [
        {
          "output_type": "execute_result",
          "data": {
            "text/plain": [
              "ConfigRNN(vocab_size=222610, device='cpu', n_layers=2, embedding_dim=64, hidden_size=32, seq_len=32, bidirectional=False)"
            ]
          },
          "metadata": {},
          "execution_count": 26
        }
      ]
    },
    {
      "cell_type": "code",
      "source": [
        "class RNNNet(nn.Module):\n",
        "    \"\"\"\n",
        "    vocab_size: int, размер словаря (аргумент embedding-слоя)\n",
        "    emb_size:   int, размер вектора для описания каждого элемента последовательности\n",
        "    hidden_dim: int, размер вектора скрытого состояния, default 0\n",
        "    batch_size: int, размер batch\n",
        "    \"\"\"\n",
        "\n",
        "    def __init__(self, rnn_conf=net_config) -> None:\n",
        "        super().__init__()\n",
        "        self.rnn_conf = rnn_conf\n",
        "        self.seq_len = rnn_conf.seq_len\n",
        "        self.emb_size = rnn_conf.embedding_dim\n",
        "        self.hidden_dim = rnn_conf.hidden_size\n",
        "        self.n_layers = rnn_conf.n_layers\n",
        "        self.vocab_size = rnn_conf.vocab_size\n",
        "        self.bidirectional = bool(rnn_conf.bidirectional)\n",
        "\n",
        "        self.embedding = nn.Embedding(self.vocab_size, self.emb_size)\n",
        "        self.rnn_cell = nn.RNN(\n",
        "            input_size=self.emb_size,\n",
        "            hidden_size=self.hidden_dim,\n",
        "            batch_first=True,\n",
        "            bidirectional=self.bidirectional,\n",
        "            num_layers=self.n_layers,\n",
        "        )\n",
        "        self.bidirect_factor = 2 if self.bidirectional == 1 else 1\n",
        "        self.linear = nn.Sequential(\n",
        "            nn.Linear(self.hidden_dim * self.seq_len * self.bidirect_factor, 16),\n",
        "            nn.Tanh(),\n",
        "            nn.Linear(16, 1),\n",
        "        )\n",
        "\n",
        "    def model_description(self):\n",
        "        direction = \"bidirect\" if self.bidirectional else \"onedirect\"\n",
        "        return f\"rnn_{direction}_{self.n_layers}\"\n",
        "\n",
        "    def forward(self, x: torch.Tensor) -> torch.Tensor:\n",
        "        x = self.embedding(x.to(self.rnn_conf.device))\n",
        "        output, _ = self.rnn_cell(x)  # Забираем hidden states со всех промежуточных состояний, второй выход отправляем в _\n",
        "        output = output.contiguous().view(output.size(0), -1)\n",
        "        out = self.linear(output)\n",
        "        return out\n",
        "\n",
        "\n",
        "model_rnn = RNNNet(net_config)\n",
        "tu.get_model_summary(model_rnn, sample_x.to(net_config.device))"
      ],
      "metadata": {
        "colab": {
          "base_uri": "https://localhost:8080/"
        },
        "id": "D_PQlxL-q4J0",
        "outputId": "ecf5a67d-1f70-4fe9-9b14-5e1a59cdd213"
      },
      "id": "D_PQlxL-q4J0",
      "execution_count": 27,
      "outputs": [
        {
          "output_type": "stream",
          "name": "stdout",
          "text": [
            "=========================================================================\n",
            "Layer                  Kernel         Output        Params          FLOPs\n",
            "=========================================================================\n",
            "0_embedding         [64, 222610]   [32, 32, 64]   14,247,040        1,024\n",
            "1_rnn_cell                     -   [32, 32, 32]        5,248   63,242,240\n",
            "2_linear.Linear_0     [1024, 16]       [32, 16]       16,400    1,048,064\n",
            "3_linear.Tanh_1                -       [32, 16]            0        2,560\n",
            "4_linear.Linear_2        [16, 1]        [32, 1]           17          992\n",
            "=========================================================================\n",
            "Total params: 14,268,705\n",
            "Trainable params: 14,268,705\n",
            "Non-trainable params: 0\n",
            "Total FLOPs: 64,294,880 / 64.29 MFLOPs\n",
            "-------------------------------------------------------------------------\n",
            "Input size (MB): 0.01\n",
            "Forward/backward pass size (MB): 0.76\n",
            "Params size (MB): 54.43\n",
            "Estimated Total Size (MB): 55.20\n",
            "=========================================================================\n"
          ]
        }
      ]
    },
    {
      "cell_type": "markdown",
      "id": "93ee1cda",
      "metadata": {
        "id": "93ee1cda"
      },
      "source": [
        "Задай функцию потерь, оптимизаторы и реализуй обучающий цикл.\n",
        "В цикле:\n",
        "* сохраняй промежуточные веса модели, чтобы потом не терять время на новом обучении\n",
        "* замеряй время обучения текущей модели для сравнения с LSTM-моделью\n",
        "* зафиксируй число эпох: 7-10 (в зависимости от ресурсов компьютера)"
      ]
    },
    {
      "cell_type": "code",
      "execution_count": 28,
      "id": "40a8aa48",
      "metadata": {
        "colab": {
          "base_uri": "https://localhost:8080/"
        },
        "id": "40a8aa48",
        "outputId": "861c1400-522d-45d1-a920-23fa03a95726"
      },
      "outputs": [
        {
          "output_type": "stream",
          "name": "stdout",
          "text": [
            "Epoch 1\n",
            "train_loss : 0.6033 val_loss : 0.5298\n",
            "train_accuracy : 0.66 val_accuracy : 0.73\n",
            "==================================================\n",
            "Epoch 2\n",
            "train_loss : 0.4387 val_loss : 0.4724\n",
            "train_accuracy : 0.80 val_accuracy : 0.77\n",
            "==================================================\n",
            "Epoch 3\n",
            "train_loss : 0.3249 val_loss : 0.4942\n",
            "train_accuracy : 0.87 val_accuracy : 0.78\n",
            "==================================================\n",
            "Epoch 4\n",
            "train_loss : 0.2349 val_loss : 0.5415\n",
            "train_accuracy : 0.91 val_accuracy : 0.78\n",
            "==================================================\n",
            "Epoch 5\n",
            "train_loss : 0.1600 val_loss : 0.6188\n",
            "train_accuracy : 0.95 val_accuracy : 0.78\n",
            "==================================================\n",
            "Epoch 6\n",
            "train_loss : 0.1054 val_loss : 0.7207\n",
            "train_accuracy : 0.97 val_accuracy : 0.77\n",
            "==================================================\n",
            "Epoch 7\n",
            "train_loss : 0.0686 val_loss : 0.8269\n",
            "train_accuracy : 0.98 val_accuracy : 0.78\n",
            "==================================================\n",
            "Epoch 8\n",
            "train_loss : 0.0490 val_loss : 0.9196\n",
            "train_accuracy : 0.99 val_accuracy : 0.77\n",
            "==================================================\n"
          ]
        }
      ],
      "source": [
        "criterion = nn.BCEWithLogitsLoss()\n",
        "optimizer_rnn = torch.optim.Adam(model_rnn.parameters())\n",
        "metric = BinaryAccuracy()\n",
        "\n",
        "# цикл обучения и валидации\n",
        "\n",
        "train_losses, val_losses, train_metric, val_metric, rnn_time = train(\n",
        "    epochs=8,\n",
        "    model=model_rnn,\n",
        "    train_loader=train_loader,\n",
        "    valid_loader=valid_loader,\n",
        "    optimizer=optimizer_rnn,\n",
        "    rnn_conf=net_config,\n",
        "    criterion=criterion,\n",
        "    metric=metric,\n",
        ")"
      ]
    },
    {
      "cell_type": "markdown",
      "id": "cca2cb51",
      "metadata": {
        "id": "cca2cb51"
      },
      "source": [
        "Распечатай кривые обучения и изменения метрики."
      ]
    },
    {
      "cell_type": "code",
      "execution_count": 29,
      "id": "5a71e38e",
      "metadata": {
        "colab": {
          "base_uri": "https://localhost:8080/",
          "height": 957
        },
        "id": "5a71e38e",
        "outputId": "9b5d26c7-dd58-44d0-bf28-e246ecc99296"
      },
      "outputs": [
        {
          "output_type": "display_data",
          "data": {
            "text/plain": [
              "<Figure size 1000x500 with 1 Axes>"
            ],
            "image/png": "[encoded data removed]"
          },
          "metadata": {}
        },
        {
          "output_type": "display_data",
          "data": {
            "text/plain": [
              "<Figure size 1000x500 with 1 Axes>"
            ],
            "image/png": "[encoded data removed]"
          },
          "metadata": {}
        }
      ],
      "source": [
        "plt.figure(figsize=(10, 5))\n",
        "plt.title(\"Training and Validation Loss\")\n",
        "plt.plot(train_losses, label='train')\n",
        "plt.plot(val_losses, label='validation')\n",
        "plt.xlabel(\"Epochs\")\n",
        "plt.ylabel(\"Loss\")\n",
        "plt.legend()\n",
        "plt.show()\n",
        "\n",
        "plt.figure(figsize=(10, 5))\n",
        "plt.title(\"Training and Validation Accuracy\")\n",
        "plt.plot(train_metric, label='train')\n",
        "plt.plot(val_metric, label='validation')\n",
        "plt.xlabel(\"Epochs\")\n",
        "plt.ylabel(\"Accuracy\")\n",
        "plt.legend()\n",
        "plt.show()"
      ]
    },
    {
      "cell_type": "markdown",
      "id": "9ac192cf",
      "metadata": {
        "id": "9ac192cf"
      },
      "source": [
        "Сохрани модель и историю изменения лоссов и метрик."
      ]
    },
    {
      "cell_type": "code",
      "source": [
        "import pickle\n",
        "\n",
        "torch.save(model_rnn.state_dict(), 'rnn_sentiment_analysis.pth')\n",
        "history = {\n",
        "    'train_losses': train_losses,\n",
        "    'val_losses': val_losses,\n",
        "    'train_accuracy': train_metric,\n",
        "    'val_accuracy': val_metric,\n",
        "    'rnn_time': rnn_time\n",
        "}\n",
        "\n",
        "with open('rnn_sentiment_history.pkl', 'wb') as f:\n",
        "    pickle.dump(history, f)"
      ],
      "metadata": {
        "id": "ttsYevFL1OIO"
      },
      "id": "ttsYevFL1OIO",
      "execution_count": 32,
      "outputs": []
    },
    {
      "cell_type": "markdown",
      "metadata": {
        "id": "8yts8k7shcVN"
      },
      "source": [
        "#### Задание 2\n",
        "\n",
        "Создай двунаправленную двуслойную LSTM-сеть и реши задачу классификации.\n",
        "\n",
        "Распечатай кривые обучения обеих моделей и значения метрик во время обучения. Примерный результат должен выглядеть так (с поправкой на твою архитектуру в заголовке):\n",
        "\n",
        "![](aux/10-01-results.png)"
      ],
      "id": "8yts8k7shcVN"
    },
    {
      "cell_type": "code",
      "source": [
        "class LSTMNet(nn.Module):\n",
        "    def __init__(self, rnn_conf=net_config) -> None:\n",
        "        super().__init__()\n",
        "        self.rnn_conf = rnn_conf\n",
        "        self.seq_len = rnn_conf.seq_len\n",
        "        self.emb_size = rnn_conf.embedding_dim\n",
        "        self.hidden_dim = rnn_conf.hidden_size\n",
        "        self.n_layers = rnn_conf.n_layers\n",
        "        self.vocab_size = rnn_conf.vocab_size\n",
        "        self.bidirectional = bool(rnn_conf.bidirectional)\n",
        "\n",
        "        self.embedding = nn.Embedding(self.vocab_size, self.emb_size)\n",
        "        self.lstm_cell = nn.LSTM(\n",
        "            input_size=self.emb_size,\n",
        "            hidden_size=self.hidden_dim,\n",
        "            batch_first=True,\n",
        "            bidirectional=self.bidirectional,\n",
        "            num_layers=self.n_layers,\n",
        "        )\n",
        "        self.bidirect_factor = 2 if self.bidirectional == 1 else 1\n",
        "        self.linear = nn.Sequential(\n",
        "            nn.Linear(self.hidden_dim * self.seq_len * self.bidirect_factor, 16),\n",
        "            nn.Tanh(),\n",
        "            nn.Linear(16, 1),\n",
        "        )\n",
        "\n",
        "    def model_description(self):\n",
        "        direction = \"bidirect\" if self.bidirectional else \"onedirect\"\n",
        "        return f\"lstm_{direction}_{self.n_layers}\"\n",
        "\n",
        "    def forward(self, x: torch.Tensor) -> torch.Tensor:\n",
        "        x = self.embedding(x.to(self.rnn_conf.device))\n",
        "        output, _ = self.lstm_cell(x)  # Забираем hidden states со всех промежуточных состояний, второй выход отправляем в _\n",
        "        output = output.contiguous().view(output.size(0), -1)\n",
        "        out = self.linear(output)\n",
        "        return out\n"
      ],
      "metadata": {
        "id": "Q8V6toQwCG0a"
      },
      "id": "Q8V6toQwCG0a",
      "execution_count": 35,
      "outputs": []
    },
    {
      "cell_type": "code",
      "source": [
        "model_lstm = LSTMNet(net_config)\n",
        "tu.get_model_summary(model_lstm, sample_x.to(net_config.device))"
      ],
      "metadata": {
        "colab": {
          "base_uri": "https://localhost:8080/"
        },
        "id": "TXawabw2CXMp",
        "outputId": "78479f0e-ebfa-4226-a5f8-eec775076460"
      },
      "id": "TXawabw2CXMp",
      "execution_count": 36,
      "outputs": [
        {
          "output_type": "stream",
          "name": "stdout",
          "text": [
            "==========================================================================\n",
            "Layer                  Kernel         Output        Params           FLOPs\n",
            "==========================================================================\n",
            "0_embedding         [64, 222610]   [32, 32, 64]   14,247,040         1,024\n",
            "1_lstm_cell                    -   [32, 32, 32]       20,992   215,613,440\n",
            "2_linear.Linear_0     [1024, 16]       [32, 16]       16,400     1,048,064\n",
            "3_linear.Tanh_1                -       [32, 16]            0         2,560\n",
            "4_linear.Linear_2        [16, 1]        [32, 1]           17           992\n",
            "==========================================================================\n",
            "Total params: 14,284,449\n",
            "Trainable params: 14,284,449\n",
            "Non-trainable params: 0\n",
            "Total FLOPs: 216,666,080 / 216.67 MFLOPs\n",
            "--------------------------------------------------------------------------\n",
            "Input size (MB): 0.01\n",
            "Forward/backward pass size (MB): 0.76\n",
            "Params size (MB): 54.49\n",
            "Estimated Total Size (MB): 55.26\n",
            "==========================================================================\n"
          ]
        }
      ]
    },
    {
      "cell_type": "code",
      "source": [
        "criterion = nn.BCEWithLogitsLoss()\n",
        "optimizer_lstm = torch.optim.Adam(model_lstm.parameters())\n",
        "metric = BinaryAccuracy()\n",
        "train_losses_lstm, val_losses_lstm, train_metric_lstm, val_metric_lstm, lstm_time = train(\n",
        "    epochs=8,\n",
        "    model=model_lstm,\n",
        "    train_loader=train_loader,\n",
        "    valid_loader=valid_loader,\n",
        "    optimizer=optimizer_lstm,\n",
        "    rnn_conf=net_config,\n",
        "    criterion=criterion,\n",
        "    metric=metric,\n",
        ")"
      ],
      "metadata": {
        "colab": {
          "base_uri": "https://localhost:8080/"
        },
        "id": "1lN_XjzwCTEx",
        "outputId": "24e27fdd-e57b-48b0-b7f9-0203a5a2bcf7"
      },
      "id": "1lN_XjzwCTEx",
      "execution_count": 38,
      "outputs": [
        {
          "output_type": "stream",
          "name": "stdout",
          "text": [
            "Epoch 1\n",
            "train_loss : 0.4885 val_loss : 0.4663\n",
            "train_accuracy : 0.76 val_accuracy : 0.78\n",
            "==================================================\n",
            "Epoch 2\n",
            "train_loss : 0.3677 val_loss : 0.4427\n",
            "train_accuracy : 0.84 val_accuracy : 0.80\n",
            "==================================================\n",
            "Epoch 3\n",
            "train_loss : 0.2592 val_loss : 0.4841\n",
            "train_accuracy : 0.90 val_accuracy : 0.79\n",
            "==================================================\n",
            "Epoch 4\n",
            "train_loss : 0.1601 val_loss : 0.5640\n",
            "train_accuracy : 0.94 val_accuracy : 0.79\n",
            "==================================================\n",
            "Epoch 5\n",
            "train_loss : 0.0851 val_loss : 0.7618\n",
            "train_accuracy : 0.97 val_accuracy : 0.78\n",
            "==================================================\n",
            "Epoch 6\n",
            "train_loss : 0.0507 val_loss : 0.8322\n",
            "train_accuracy : 0.99 val_accuracy : 0.78\n",
            "==================================================\n",
            "Epoch 7\n",
            "train_loss : 0.0333 val_loss : 0.9667\n",
            "train_accuracy : 0.99 val_accuracy : 0.78\n",
            "==================================================\n",
            "Epoch 8\n",
            "train_loss : 0.0258 val_loss : 1.0422\n",
            "train_accuracy : 0.99 val_accuracy : 0.77\n",
            "==================================================\n"
          ]
        }
      ]
    },
    {
      "cell_type": "code",
      "source": [
        "plt.figure(figsize=(10,5))\n",
        "plt.plot(train_losses, label='Train Loss RNN', color='blue')\n",
        "plt.plot(val_losses, label='Validation Loss RNN', color='orange')\n",
        "plt.legend()\n",
        "plt.title('Training and Validation Loss for RNN model')\n",
        "plt.xlabel('Epoch')\n",
        "plt.ylabel('Loss')\n",
        "plt.show()\n",
        "\n",
        "plt.figure(figsize=(10,5))\n",
        "plt.plot(train_losses_lstm, label='Train Loss LSTM', color='green')\n",
        "plt.plot(val_losses_lstm, label='Validation Loss LSTM', color='red')\n",
        "plt.legend()\n",
        "plt.title('Training and Validation Loss for LSTM model')\n",
        "plt.xlabel('Epoch')\n",
        "plt.ylabel('Loss')\n",
        "plt.show()\n",
        "\n",
        "plt.figure(figsize=(10,5))\n",
        "plt.plot(train_metric, label='Train Accuracy RNN', color='blue')\n",
        "plt.plot(val_metric, label='Validation Accuracy RNN', color='orange')\n",
        "plt.legend()\n",
        "plt.title('Training and Validation Accuracy for RNN model')\n",
        "plt.xlabel('Epoch')\n",
        "plt.ylabel('Accuracy')\n",
        "plt.show()\n",
        "\n",
        "plt.figure(figsize=(10,5))\n",
        "plt.plot(train_metric_lstm, label='Train Accuracy LSTM', color='green')\n",
        "plt.plot(val_metric_lstm, label='Validation Accuracy LSTM', color='red')\n",
        "plt.legend()\n",
        "plt.title('Training and Validation Accuracy for LSTM model')\n",
        "plt.xlabel('Epoch')\n",
        "plt.ylabel('Accuracy')\n",
        "plt.show()"
      ],
      "metadata": {
        "colab": {
          "base_uri": "https://localhost:8080/",
          "height": 1000
        },
        "id": "GbxBXZbAMDVM",
        "outputId": "d9c7863f-369d-466a-e426-9b703a6093ba"
      },
      "id": "GbxBXZbAMDVM",
      "execution_count": 43,
      "outputs": [
        {
          "output_type": "display_data",
          "data": {
            "text/plain": [
              "<Figure size 1000x500 with 1 Axes>"
            ],
            "image/png": "[encoded data removed]"
          },
          "metadata": {}
        },
        {
          "output_type": "display_data",
          "data": {
            "text/plain": [
              "<Figure size 1000x500 with 1 Axes>"
            ],
            "image/png": "[encoded data removed]"
          },
          "metadata": {}
        },
        {
          "output_type": "display_data",
          "data": {
            "text/plain": [
              "<Figure size 1000x500 with 1 Axes>"
            ],
            "image/png": "[encoded data removed]"
          },
          "metadata": {}
        },
        {
          "output_type": "display_data",
          "data": {
            "text/plain": [
              "<Figure size 1000x500 with 1 Axes>"
            ],
            "image/png": "[encoded data removed]"
          },
          "metadata": {}
        }
      ]
    },
    {
      "cell_type": "markdown",
      "id": "87e1efb7",
      "metadata": {
        "id": "87e1efb7"
      },
      "source": [
        "#### Задание 3\n",
        "\n",
        "Реализуй функцию, которая принимает на вход текстовое сообщение и классифицирует его обученной моделью.\n",
        "\n",
        "```\n",
        "def predict_sentence(text: str, model: nn.Module) -> str:\n",
        "    \n",
        "    ...\n",
        "\n",
        "    return result\n",
        "```"
      ]
    },
    {
      "cell_type": "code",
      "execution_count": 40,
      "metadata": {
        "id": "OEY9KvYvhcVO"
      },
      "outputs": [],
      "source": [
        "def predict_sentence(text: str, model: nn.Module) -> str:\n",
        "    preprocessed_text = preprocess_single_string(text, SEQ_LEN)\n",
        "    preprocessed_text = preprocessed_text.view(1, -1) # reshaping for batch size of 1\n",
        "    with torch.no_grad():\n",
        "        output = model(preprocessed_text)\n",
        "        prediction = torch.sigmoid(output).item()\n",
        "\n",
        "    return \"positive\" if prediction > 0.5 else \"negative\"\n"
      ],
      "id": "OEY9KvYvhcVO"
    },
    {
      "cell_type": "code",
      "execution_count": 42,
      "id": "701c4662",
      "metadata": {
        "colab": {
          "base_uri": "https://localhost:8080/"
        },
        "id": "701c4662",
        "outputId": "1c2b7e45-98b3-4f93-9263-caeb0511b93f"
      },
      "outputs": [
        {
          "output_type": "stream",
          "name": "stdout",
          "text": [
            "positive\n"
          ]
        }
      ],
      "source": [
        "# Example usage\n",
        "text = \"'Parasite' is a riveting and thought-provoking film that delves \\\n",
        "into the complex dynamics of class struggle. The storytelling is masterful, \\\n",
        "with twists and turns that keep you on the edge of your seat until the very end. \\\n",
        "The acting is top-notch, with each character bringing depth and nuance to the screen. \\\n",
        "Director Bong Joon-ho has crafted a truly unforgettable cinematic experience that will linger \\\n",
        "in your mind long after the credits have rolled. 'Parasite' is a must-see film that will \\\n",
        "challenge your perceptions and leave you questioning the inequalities present in our society.\"\n",
        "prediction = predict_sentence(text, model_lstm)\n",
        "print(prediction)"
      ]
    },
    {
      "cell_type": "markdown",
      "id": "b2a25436",
      "metadata": {
        "id": "b2a25436"
      },
      "source": [
        "❗️ Сделай push на гитхаб!"
      ]
    },
    {
      "cell_type": "code",
      "execution_count": null,
      "id": "6c985b7a",
      "metadata": {
        "id": "6c985b7a"
      },
      "outputs": [],
      "source": [
        "# code"
      ]
    },
    {
      "cell_type": "markdown",
      "id": "88e525e4",
      "metadata": {
        "id": "88e525e4"
      },
      "source": [
        "#### Задание 4\n",
        "\n",
        "Создай telegram-бота, который принимает на вход пользовательское сообщение и классифицирует его."
      ]
    }
  ],
  "metadata": {
    "kernelspec": {
      "display_name": "Python 3",
      "name": "python3"
    },
    "language_info": {
      "codemirror_mode": {
        "name": "ipython",
        "version": 3
      },
      "file_extension": ".py",
      "mimetype": "text/x-python",
      "name": "python",
      "nbconvert_exporter": "python",
      "pygments_lexer": "ipython3",
      "version": "3.9.15"
    },
    "papermill": {
      "default_parameters": {},
      "duration": 119.96947,
      "end_time": "2021-07-23T09:53:55.779323",
      "environment_variables": {},
      "exception": null,
      "input_path": "__notebook__.ipynb",
      "output_path": "__notebook__.ipynb",
      "parameters": {},
      "start_time": "2021-07-23T09:51:55.809853",
      "version": "2.3.3"
    },
    "vscode": {
      "interpreter": {
        "hash": "a7df815f77bf8edb0a6a656480e7ee3c360a4b494ba862a12bd6032824eda046"
      }
    },
    "colab": {
      "provenance": [],
      "machine_shape": "hm",
      "gpuType": "V28"
    },
    "accelerator": "TPU"
  },
  "nbformat": 4,
  "nbformat_minor": 5
}