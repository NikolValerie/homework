{
  "cells": [
    {
      "cell_type": "markdown",
      "metadata": {
        "id": "view-in-github",
        "colab_type": "text"
      },
      "source": [
        "<a href=\"https://colab.research.google.com/github/NikolValerie/homework/blob/main/08_01_task.ipynb\" target=\"_parent\"><img src=\"https://colab.research.google.com/assets/colab-badge.svg\" alt=\"Open In Colab\"/></a>"
      ]
    },
    {
      "cell_type": "markdown",
      "id": "e639b14e-7736-4364-8848-748c68095037",
      "metadata": {
        "id": "e639b14e-7736-4364-8848-748c68095037"
      },
      "source": [
        "# Фаза 2 • Неделя 8 • Понедельник\n",
        "## Нейронные сети\n",
        "### 🔥 PyTorch"
      ]
    },
    {
      "cell_type": "code",
      "source": [
        "!pip install torchutils"
      ],
      "metadata": {
        "id": "2S9hFqNOPjsW"
      },
      "id": "2S9hFqNOPjsW",
      "execution_count": null,
      "outputs": []
    },
    {
      "cell_type": "code",
      "source": [
        "!pip install mplcyberpunk"
      ],
      "metadata": {
        "id": "x86zyw5GQhnt"
      },
      "id": "x86zyw5GQhnt",
      "execution_count": null,
      "outputs": []
    },
    {
      "cell_type": "code",
      "source": [
        "!pip install category-encoders"
      ],
      "metadata": {
        "id": "Xxqc2EFde3KZ"
      },
      "id": "Xxqc2EFde3KZ",
      "execution_count": null,
      "outputs": []
    },
    {
      "cell_type": "code",
      "execution_count": null,
      "id": "be43b59c",
      "metadata": {
        "id": "be43b59c"
      },
      "outputs": [],
      "source": [
        "import torch\n",
        "torch.manual_seed(42)\n",
        "from torch import nn\n",
        "\n",
        "from torch import optim\n",
        "\n",
        "from torch.utils.data import TensorDataset, DataLoader, random_split\n",
        "\n",
        "import torchutils as tu\n",
        "import matplotlib.pyplot as plt\n",
        "import mplcyberpunk\n",
        "plt.style.use(\"cyberpunk\")\n",
        "import numpy as np\n",
        "import pandas as pd"
      ]
    },
    {
      "cell_type": "code",
      "source": [
        "import sklearn\n",
        "sklearn.set_config(transform_output=\"pandas\")\n",
        "from sklearn.compose import ColumnTransformer\n",
        "from sklearn.pipeline import Pipeline, make_pipeline\n",
        "from sklearn.base import BaseEstimator, TransformerMixin\n",
        "\n",
        "# Preprocessing\n",
        "from sklearn.impute import SimpleImputer\n",
        "from sklearn.decomposition import PCA\n",
        "from sklearn.preprocessing import OneHotEncoder, StandardScaler, RobustScaler, MinMaxScaler, OrdinalEncoder\n",
        "from sklearn.model_selection import GridSearchCV, KFold\n",
        "from sklearn.compose import make_column_selector\n",
        "from category_encoders.target_encoder import TargetEncoder\n",
        "\n",
        "# for model learning\n",
        "from sklearn.model_selection import train_test_split, RandomizedSearchCV, cross_val_score"
      ],
      "metadata": {
        "id": "aZuKf4dxd4vI"
      },
      "id": "aZuKf4dxd4vI",
      "execution_count": null,
      "outputs": []
    },
    {
      "cell_type": "markdown",
      "id": "72a36b44",
      "metadata": {
        "id": "72a36b44"
      },
      "source": [
        "\n",
        "### Оценка стоимости недвижимости с применением нейронных сетей"
      ]
    },
    {
      "cell_type": "markdown",
      "id": "713af1ad-285f-478c-8274-31cbb6c86080",
      "metadata": {
        "id": "713af1ad-285f-478c-8274-31cbb6c86080"
      },
      "source": [
        "Загрузите датасет House Prices (https://www.kaggle.com/c/house-prices-advanced-regression-techniques) с прошлой недели: датасет должен быть предобработанный:\n",
        "\n",
        "* в нем должны отсутствовать пропуски\n",
        "* данные **обязательно** должны быть нормализованы\n",
        "* целевая переменная должна быть логарифмирована\n",
        "* в `TensorDataset` передаем только массив, а не `DataFrame`"
      ]
    },
    {
      "cell_type": "code",
      "source": [
        "train = pd.read_csv('/train.csv')"
      ],
      "metadata": {
        "id": "iHTyUoWIYeNe"
      },
      "id": "iHTyUoWIYeNe",
      "execution_count": null,
      "outputs": []
    },
    {
      "cell_type": "code",
      "source": [
        "cat_cols = train.select_dtypes(include='object').columns.to_list()\n",
        "num_cols = train.select_dtypes(include=['float64', 'int64']).columns.to_list()\n",
        "\n",
        "drop_features = ['Id','Alley','MasVnrType','FireplaceQu','PoolQC','Fence','MiscFeature','LandSlope','GarageQual','GarageCond','MiscVal','Utilities','YrSold']\n",
        "my_imputer = ColumnTransformer(\n",
        "    transformers = [\n",
        "        ('drop_features', 'drop', drop_features),\n",
        "        ('num_imputer', SimpleImputer(strategy='most_frequent'), make_column_selector(dtype_include=['float64', 'int64'])),\n",
        "        ('cat_imputer', SimpleImputer(strategy='most_frequent'), make_column_selector(dtype_include='object'))\n",
        "    ],\n",
        "    verbose_feature_names_out = False,\n",
        "    remainder = 'passthrough'\n",
        ")\n",
        "filled_data = my_imputer.fit_transform(train)\n",
        "\n",
        "class CustomImputer(BaseEstimator, TransformerMixin):\n",
        "    def fit(self, train, y=None):\n",
        "        self.most_common_values = {}\n",
        "        for col in train.columns:\n",
        "            self.most_common_values[col] = train[col].value_counts().idxmax()\n",
        "        return self\n",
        "\n",
        "    def transform(self, train):\n",
        "        X_copy = train.copy()\n",
        "        for col in train.columns:\n",
        "            X_copy[col] = X_copy[col].replace(['Oth', 'Othr', 'Other'], self.most_common_values[col])\n",
        "        return X_copy\n",
        "\n",
        "custom_imputer = CustomImputer()\n",
        "updated_data = custom_imputer.fit_transform(filled_data)\n",
        "\n",
        "scaler_and_encoder = ColumnTransformer(\n",
        "    [\n",
        "        ('target_encoding', TargetEncoder(), make_column_selector(dtype_include='object')),\n",
        "        ('scaling_num_columns', StandardScaler(), make_column_selector(dtype_include=['float64', 'int64']))\n",
        "    ],\n",
        "    verbose_feature_names_out=False,\n",
        "    remainder='passthrough'\n",
        ")\n",
        "\n",
        "scaler_for_obj = ColumnTransformer(\n",
        "    [\n",
        "        ('scaling_for_obj', StandardScaler(), make_column_selector(dtype_include=['float64', 'int64']))\n",
        "    ],\n",
        "    verbose_feature_names_out=False,\n",
        "    remainder='passthrough'\n",
        ")\n",
        "\n",
        "preprocessor = Pipeline(\n",
        "    [\n",
        "        ('imputer', my_imputer),\n",
        "        ('replacing_othr', custom_imputer),\n",
        "        ('scaler_and_encoder', scaler_and_encoder),\n",
        "        ('scaling_for_obj', scaler_for_obj)\n",
        "    ]\n",
        ")"
      ],
      "metadata": {
        "id": "LV3CDmNvfJP2"
      },
      "id": "LV3CDmNvfJP2",
      "execution_count": null,
      "outputs": []
    },
    {
      "cell_type": "code",
      "source": [
        "X, y = train.drop('SalePrice', axis=1), train['SalePrice']\n",
        "X = preprocessor.fit_transform(X, y)\n",
        "X = X.iloc[:, :].values\n",
        "y = np.log(np.array(y))\n",
        "n_features = X.shape[1]\n",
        "print(X.shape, y.shape)\n",
        "print(n_features)"
      ],
      "metadata": {
        "colab": {
          "base_uri": "https://localhost:8080/"
        },
        "id": "9CrmUTKgc9QT",
        "outputId": "19243dfa-aff2-498f-82cc-ecf354e75529"
      },
      "id": "9CrmUTKgc9QT",
      "execution_count": null,
      "outputs": [
        {
          "output_type": "stream",
          "name": "stdout",
          "text": [
            "(1460, 80) (1460,)\n",
            "80\n"
          ]
        }
      ]
    },
    {
      "cell_type": "markdown",
      "id": "05aae543-f68b-45ad-b4d7-c47a81e63cb8",
      "metadata": {
        "id": "05aae543-f68b-45ad-b4d7-c47a81e63cb8"
      },
      "source": [
        "1. С использованием библиотеки `pytorch` задай нейронную сеть по следующей схеме:\n",
        "    * На первом слое 128 нейронов с активацией `relu`\n",
        "    * На втором слое 64 нейрона с активацией `relu`\n",
        "    * На третьем слое дропаут с аргументом 0.5\n",
        "    * Выходной слой из 1 нейрона\n",
        "\n",
        "![](aux/baseline.png)"
      ]
    },
    {
      "cell_type": "code",
      "source": [
        "model = nn.Sequential(\n",
        "    nn.Linear(n_features,1),\n",
        "    nn.ReLU()\n",
        ")\n",
        "\n",
        "tu.get_model_summary(model, torch.randn(90, n_features))"
      ],
      "metadata": {
        "colab": {
          "base_uri": "https://localhost:8080/"
        },
        "id": "aXzWSKQfyQ62",
        "outputId": "acb77d49-c43e-401f-8102-d21853bcf591"
      },
      "id": "aXzWSKQfyQ62",
      "execution_count": null,
      "outputs": [
        {
          "output_type": "stream",
          "name": "stdout",
          "text": [
            "===========================================\n",
            "Layer   Kernel    Output    Params    FLOPs\n",
            "===========================================\n",
            "0_0     [80, 1]   [90, 1]       81   14,310\n",
            "1_1           -   [90, 1]        0        0\n",
            "===========================================\n",
            "Total params: 81\n",
            "Trainable params: 81\n",
            "Non-trainable params: 0\n",
            "Total FLOPs: 14,310 / 14.31 KFLOPs\n",
            "-------------------------------------------\n",
            "Input size (MB): 0.03\n",
            "Forward/backward pass size (MB): 0.00\n",
            "Params size (MB): 0.00\n",
            "Estimated Total Size (MB): 0.03\n",
            "===========================================\n"
          ]
        }
      ]
    },
    {
      "cell_type": "markdown",
      "id": "48b28cb0-01b2-4cd1-b626-c297ede7d185",
      "metadata": {
        "id": "48b28cb0-01b2-4cd1-b626-c297ede7d185"
      },
      "source": [
        "2. Вызови `tu.get_model_summary` модели"
      ]
    },
    {
      "cell_type": "code",
      "source": [
        "dataset = TensorDataset(torch.tensor(X, dtype=torch.float), torch.tensor(y, dtype=torch.float))"
      ],
      "metadata": {
        "id": "Ua4H6-yWzJ5a"
      },
      "id": "Ua4H6-yWzJ5a",
      "execution_count": null,
      "outputs": []
    },
    {
      "cell_type": "markdown",
      "id": "1f632cd3",
      "metadata": {
        "id": "1f632cd3"
      },
      "source": [
        "3. Импортируй `TensorDataset` и `DataLoader` и создай датасет для обучения модели."
      ]
    },
    {
      "cell_type": "code",
      "source": [
        "train_ds, valid_ds = random_split(dataset, lengths=(.7, .3))\n",
        "train_loader = DataLoader(train_ds, shuffle=True, batch_size=128)\n",
        "valid_loader = DataLoader(valid_ds, shuffle=True, batch_size=128)"
      ],
      "metadata": {
        "id": "8jFRsVMDzODr"
      },
      "id": "8jFRsVMDzODr",
      "execution_count": null,
      "outputs": []
    },
    {
      "cell_type": "code",
      "source": [
        "for param in model.parameters():\n",
        "    print(param)"
      ],
      "metadata": {
        "colab": {
          "base_uri": "https://localhost:8080/"
        },
        "id": "fXsAIFkfzUmq",
        "outputId": "0244977c-15b2-4360-c7ee-9bd9713fe593"
      },
      "id": "fXsAIFkfzUmq",
      "execution_count": null,
      "outputs": [
        {
          "output_type": "stream",
          "name": "stdout",
          "text": [
            "Parameter containing:\n",
            "tensor([[-0.0637, -0.0438,  0.0367, -0.0630,  0.0666,  0.0187,  0.0967,  0.0933,\n",
            "         -0.0461,  0.0620,  0.0129,  0.0427,  0.0288,  0.0153,  0.0034,  0.0152,\n",
            "         -0.1028, -0.0654,  0.0059, -0.0435,  0.0204, -0.0333,  0.0203,  0.0780,\n",
            "          0.0400,  0.0668, -0.0671,  0.0056, -0.0978,  0.0450, -0.1003,  0.0597,\n",
            "          0.0258,  0.0039,  0.0209,  0.0338,  0.0889, -0.0668, -0.0692, -0.0364,\n",
            "         -0.1084, -0.0208, -0.0731,  0.0037,  0.0081,  0.0878, -0.0556, -0.1058,\n",
            "          0.0261,  0.0242, -0.0948,  0.0207,  0.1042, -0.0935, -0.0844,  0.0020,\n",
            "          0.0625,  0.0941, -0.0627, -0.1077,  0.0426, -0.0353, -0.0070, -0.0992,\n",
            "         -0.0660, -0.0384, -0.0739,  0.0045, -0.0388,  0.0668,  0.0633,  0.0426,\n",
            "          0.0846, -0.0953, -0.0527, -0.0254,  0.1057,  0.0934, -0.0106, -0.0112]],\n",
            "       requires_grad=True)\n",
            "Parameter containing:\n",
            "tensor([-0.0794], requires_grad=True)\n"
          ]
        }
      ]
    },
    {
      "cell_type": "markdown",
      "id": "5395790a",
      "metadata": {
        "id": "5395790a"
      },
      "source": [
        "4. Запусти обучение на 10 эпох и нарисуй кривые обучения и кривые изменения метрик. Не забудь переводить модель в режимы `train` и `eval`."
      ]
    },
    {
      "cell_type": "code",
      "execution_count": null,
      "id": "16424b9e-c42f-4191-a23e-baffad421901",
      "metadata": {
        "id": "16424b9e-c42f-4191-a23e-baffad421901"
      },
      "outputs": [],
      "source": [
        "optimizer = optim.SGD(model.parameters(), lr=0.005)"
      ]
    },
    {
      "cell_type": "code",
      "source": [
        "criterion = nn.MSELoss()"
      ],
      "metadata": {
        "id": "1NGr1s2BzhmF"
      },
      "id": "1NGr1s2BzhmF",
      "execution_count": null,
      "outputs": []
    },
    {
      "cell_type": "code",
      "source": [
        "def fit_model(model: torch.nn.modules.container.Sequential, n_epochs: int) -> tuple:\n",
        "\n",
        "    train_losses = []\n",
        "    valid_losses = []\n",
        "\n",
        "    train_metric = []\n",
        "    valid_metric = []\n",
        "\n",
        "    for epoch in range(n_epochs):\n",
        "        model.train()\n",
        "\n",
        "        train_loss_iter = []\n",
        "        train_metric_iter = []\n",
        "\n",
        "        for samples, labels in train_loader:\n",
        "\n",
        "            predictions = model(samples)\n",
        "            predictions = predictions.squeeze(-1)\n",
        "            loss = criterion(predictions, labels)\n",
        "\n",
        "            optimizer.zero_grad()\n",
        "            loss.backward()\n",
        "            optimizer.step()\n",
        "\n",
        "            train_loss_iter.append(loss.item())\n",
        "\n",
        "            mse = ((predictions - labels) ** 2).mean()\n",
        "            rmse = torch.sqrt(mse)\n",
        "            train_metric_iter.append(rmse.item())\n",
        "\n",
        "        ###### ВАЛИДАЦИЯ ######\n",
        "        model.eval()\n",
        "\n",
        "        valid_loss_iter = []\n",
        "        valid_metric_iter = []\n",
        "\n",
        "        for samples, labels in valid_loader:\n",
        "            with torch.inference_mode():\n",
        "                predictions = model(samples)\n",
        "\n",
        "            predictions = predictions.squeeze(-1)\n",
        "\n",
        "            loss = criterion(predictions, labels)\n",
        "\n",
        "            valid_loss_iter.append(loss.item())\n",
        "\n",
        "            RMSE = torch.sqrt(torch.mean((labels - predictions) ** 2))\n",
        "            valid_metric_iter.append(RMSE.detach().numpy())\n",
        "\n",
        "\n",
        "        # после окончания эпохи запишем все усредненные характеристики в переменные\n",
        "        train_losses.append(np.mean(train_loss_iter))\n",
        "        valid_losses.append(np.mean(valid_loss_iter))\n",
        "\n",
        "        train_metric.append(np.mean(train_metric_iter))\n",
        "        valid_metric.append(np.mean(valid_metric_iter))\n",
        "\n",
        "        if epoch % 1 == 0:\n",
        "            print(f'Epoch {epoch} finished: train_loss={train_losses[-1]:.3f}, valid_loss={valid_losses[-1]:.3f}')\n",
        "\n",
        "    return train_losses, valid_losses, train_metric, valid_metric"
      ],
      "metadata": {
        "id": "uHqP0QyLz1NE"
      },
      "id": "uHqP0QyLz1NE",
      "execution_count": null,
      "outputs": []
    },
    {
      "cell_type": "code",
      "source": [
        "train_losses, valid_losses, train_metric, valid_metric = fit_model(model, 20)"
      ],
      "metadata": {
        "colab": {
          "base_uri": "https://localhost:8080/"
        },
        "id": "tNnnaWXs1XF4",
        "outputId": "f1097a93-e300-48a1-bfad-b1749094b168"
      },
      "id": "tNnnaWXs1XF4",
      "execution_count": null,
      "outputs": [
        {
          "output_type": "stream",
          "name": "stdout",
          "text": [
            "Epoch 0 finished: train_loss=137.905, valid_loss=125.348\n",
            "Epoch 1 finished: train_loss=117.056, valid_loss=107.183\n",
            "Epoch 2 finished: train_loss=99.350, valid_loss=91.822\n",
            "Epoch 3 finished: train_loss=84.459, valid_loss=78.961\n",
            "Epoch 4 finished: train_loss=71.737, valid_loss=67.845\n",
            "Epoch 5 finished: train_loss=61.049, valid_loss=57.941\n",
            "Epoch 6 finished: train_loss=51.955, valid_loss=50.084\n",
            "Epoch 7 finished: train_loss=44.239, valid_loss=43.113\n",
            "Epoch 8 finished: train_loss=37.645, valid_loss=36.484\n",
            "Epoch 9 finished: train_loss=32.023, valid_loss=31.359\n",
            "Epoch 10 finished: train_loss=27.312, valid_loss=26.975\n",
            "Epoch 11 finished: train_loss=23.262, valid_loss=23.116\n",
            "Epoch 12 finished: train_loss=19.829, valid_loss=19.968\n",
            "Epoch 13 finished: train_loss=16.916, valid_loss=17.228\n",
            "Epoch 14 finished: train_loss=14.401, valid_loss=14.758\n",
            "Epoch 15 finished: train_loss=12.288, valid_loss=12.753\n",
            "Epoch 16 finished: train_loss=10.489, valid_loss=11.010\n",
            "Epoch 17 finished: train_loss=8.950, valid_loss=9.442\n",
            "Epoch 18 finished: train_loss=7.644, valid_loss=8.227\n",
            "Epoch 19 finished: train_loss=6.526, valid_loss=7.110\n"
          ]
        }
      ]
    },
    {
      "cell_type": "code",
      "source": [
        "def plot_loss_metrics(tl: list, vl: list, tm: list, vm: list):\n",
        "    fig, ax = plt.subplots(1, 2, figsize=(14, 5))\n",
        "    ax[0].plot(tl, label='Train loss')\n",
        "    ax[0].plot(vl, label='Valid Loss')\n",
        "    ax[0].legend()\n",
        "    ax[0].set_title('Loss')\n",
        "\n",
        "    ax[1].plot(tm, label='Train rmse')\n",
        "    ax[1].plot(vm, label='Valid rmse')\n",
        "    ax[1].legend()\n",
        "    ax[1].set_title('RMSE')"
      ],
      "metadata": {
        "id": "EHmuVzcA1bq-"
      },
      "id": "EHmuVzcA1bq-",
      "execution_count": null,
      "outputs": []
    },
    {
      "cell_type": "code",
      "source": [
        "plot_loss_metrics(train_losses, valid_losses, train_metric, valid_metric)"
      ],
      "metadata": {
        "colab": {
          "base_uri": "https://localhost:8080/",
          "height": 461
        },
        "id": "V1X7WUwQ1jPq",
        "outputId": "550a9198-0195-4d45-c91f-36d6da7c3de2"
      },
      "id": "V1X7WUwQ1jPq",
      "execution_count": null,
      "outputs": [
        {
          "output_type": "display_data",
          "data": {
            "text/plain": [
              "<Figure size 1400x500 with 2 Axes>"
            ],
            "image/png": "[encoded data removed]"
          },
          "metadata": {}
        }
      ]
    },
    {
      "cell_type": "markdown",
      "id": "efb63afa-1c51-4fd5-bc4a-784c814266d1",
      "metadata": {
        "id": "efb63afa-1c51-4fd5-bc4a-784c814266d1"
      },
      "source": [
        "5. Измени архитектуру модели и улучши результат:\n",
        "    * измени число нейронов\n",
        "    * попробуй использовать сигмоидную функцию активации: `nn.Sigmoid`\n",
        "    * измени число слоев\n",
        "    * поэкспериментируй с активационными функциями и дропаутом"
      ]
    },
    {
      "cell_type": "code",
      "execution_count": null,
      "id": "578c5016-44c8-4fcb-83c4-22115831954a",
      "metadata": {
        "colab": {
          "base_uri": "https://localhost:8080/"
        },
        "id": "578c5016-44c8-4fcb-83c4-22115831954a",
        "outputId": "fb13185b-0f11-4a3e-c27e-6f9061e377c9"
      },
      "outputs": [
        {
          "output_type": "stream",
          "name": "stdout",
          "text": [
            "=================================================\n",
            "Layer    Kernel     Output     Params       FLOPs\n",
            "=================================================\n",
            "0_0     [80, 64]   [128, 64]    5,184   1,302,528\n",
            "1_1            -   [128, 64]        0           0\n",
            "2_2            -   [128, 64]        0           0\n",
            "3_3     [64, 16]   [128, 16]    1,040     260,096\n",
            "4_4            -   [128, 16]        0           0\n",
            "5_5            -   [128, 16]        0           0\n",
            "6_6      [16, 1]    [128, 1]       17       3,968\n",
            "7_7            -    [128, 1]        0           0\n",
            "=================================================\n",
            "Total params: 6,241\n",
            "Trainable params: 6,241\n",
            "Non-trainable params: 0\n",
            "Total FLOPs: 1,566,592 / 1.57 MFLOPs\n",
            "-------------------------------------------------\n",
            "Input size (MB): 0.04\n",
            "Forward/backward pass size (MB): 0.24\n",
            "Params size (MB): 0.02\n",
            "Estimated Total Size (MB): 0.30\n",
            "=================================================\n"
          ]
        }
      ],
      "source": [
        "big_model = nn.Sequential(\n",
        "    nn.Linear(n_features, 64),\n",
        "    nn.Dropout(),\n",
        "    nn.ReLU(),\n",
        "    nn.Linear(64, 16),\n",
        "    nn.Dropout(),\n",
        "    nn.ReLU(),\n",
        "    nn.Linear(16, 1),\n",
        "    nn.ReLU()\n",
        ")\n",
        "\n",
        "tu.get_model_summary(big_model, torch.randn(128, n_features))"
      ]
    },
    {
      "cell_type": "code",
      "source": [
        "optimizer = torch.optim.SGD(big_model.parameters(), lr=0.005)"
      ],
      "metadata": {
        "id": "Guwx7O5nGPI9"
      },
      "id": "Guwx7O5nGPI9",
      "execution_count": null,
      "outputs": []
    },
    {
      "cell_type": "code",
      "source": [
        "tl, vl, tm, vm = fit_model(big_model, 20)"
      ],
      "metadata": {
        "colab": {
          "base_uri": "https://localhost:8080/"
        },
        "id": "n7T3JhBRGPqP",
        "outputId": "5a401d30-d91c-4128-ca56-1ec6562bd6a8"
      },
      "id": "n7T3JhBRGPqP",
      "execution_count": null,
      "outputs": [
        {
          "output_type": "stream",
          "name": "stdout",
          "text": [
            "Epoch 0 finished: train_loss=143.814, valid_loss=136.802\n",
            "Epoch 1 finished: train_loss=97.148, valid_loss=24.270\n",
            "Epoch 2 finished: train_loss=30.340, valid_loss=6.072\n",
            "Epoch 3 finished: train_loss=21.060, valid_loss=4.582\n",
            "Epoch 4 finished: train_loss=19.057, valid_loss=7.003\n",
            "Epoch 5 finished: train_loss=16.587, valid_loss=4.383\n",
            "Epoch 6 finished: train_loss=15.574, valid_loss=3.473\n",
            "Epoch 7 finished: train_loss=14.605, valid_loss=3.405\n",
            "Epoch 8 finished: train_loss=14.153, valid_loss=3.132\n",
            "Epoch 9 finished: train_loss=13.241, valid_loss=3.283\n",
            "Epoch 10 finished: train_loss=12.512, valid_loss=2.224\n",
            "Epoch 11 finished: train_loss=12.861, valid_loss=2.538\n",
            "Epoch 12 finished: train_loss=11.192, valid_loss=2.208\n",
            "Epoch 13 finished: train_loss=10.837, valid_loss=1.721\n",
            "Epoch 14 finished: train_loss=9.969, valid_loss=2.029\n",
            "Epoch 15 finished: train_loss=10.482, valid_loss=2.533\n",
            "Epoch 16 finished: train_loss=9.852, valid_loss=1.625\n",
            "Epoch 17 finished: train_loss=9.791, valid_loss=1.936\n",
            "Epoch 18 finished: train_loss=9.033, valid_loss=2.869\n",
            "Epoch 19 finished: train_loss=9.008, valid_loss=1.286\n"
          ]
        }
      ]
    },
    {
      "cell_type": "code",
      "source": [
        "plot_loss_metrics(tl, vl, tm, vm)"
      ],
      "metadata": {
        "colab": {
          "base_uri": "https://localhost:8080/",
          "height": 461
        },
        "id": "afzJ6iMPGSOa",
        "outputId": "626540e4-82aa-447b-f74b-38fe69b47df8"
      },
      "id": "afzJ6iMPGSOa",
      "execution_count": null,
      "outputs": [
        {
          "output_type": "display_data",
          "data": {
            "text/plain": [
              "<Figure size 1400x500 with 2 Axes>"
            ],
            "image/png": "[encoded data removed]"
          },
          "metadata": {}
        }
      ]
    },
    {
      "cell_type": "markdown",
      "id": "da234f46-c1be-48f4-a04a-4d0bddf2e8cc",
      "metadata": {
        "id": "da234f46-c1be-48f4-a04a-4d0bddf2e8cc"
      },
      "source": [
        "6. Попробуй добиться лучшего результата, чем получалось на прошлой неделе во время выполнения проекта!"
      ]
    },
    {
      "cell_type": "code",
      "execution_count": null,
      "id": "a9b4335e-3728-44f1-ac72-11941490af3e",
      "metadata": {
        "id": "a9b4335e-3728-44f1-ac72-11941490af3e"
      },
      "outputs": [],
      "source": []
    },
    {
      "cell_type": "markdown",
      "id": "3ce0e57a-b1f6-49b3-a03d-699a1f5384e3",
      "metadata": {
        "id": "3ce0e57a-b1f6-49b3-a03d-699a1f5384e3"
      },
      "source": [
        "## Дополнительное задание\n",
        "\n",
        "### Классификация клиента банка\n",
        "\n",
        "* С помощью `pytorch` классифицировать клиентов банка.\n",
        "\n",
        "* Датасет [здесь](https://raw.githubusercontent.com/Anurion/Uralsib_test/main/Uralsib_test/Data.txt)\n",
        "\n",
        "* Метрика: `f1_score`\n",
        "\n",
        "* При чтении данных нужно указать аргумент `read_csv()` `encoding='kz1048'`"
      ]
    },
    {
      "cell_type": "code",
      "execution_count": null,
      "id": "2cfc2682-274c-483e-bcc1-419eafd5ec9f",
      "metadata": {
        "id": "2cfc2682-274c-483e-bcc1-419eafd5ec9f"
      },
      "outputs": [],
      "source": []
    }
  ],
  "metadata": {
    "kernelspec": {
      "display_name": "pt",
      "language": "python",
      "name": "python3"
    },
    "language_info": {
      "codemirror_mode": {
        "name": "ipython",
        "version": 3
      },
      "file_extension": ".py",
      "mimetype": "text/x-python",
      "name": "python",
      "nbconvert_exporter": "python",
      "pygments_lexer": "ipython3",
      "version": "3.9.15"
    },
    "vscode": {
      "interpreter": {
        "hash": "a7df815f77bf8edb0a6a656480e7ee3c360a4b494ba862a12bd6032824eda046"
      }
    },
    "colab": {
      "provenance": [],
      "include_colab_link": true
    }
  },
  "nbformat": 4,
  "nbformat_minor": 5
}